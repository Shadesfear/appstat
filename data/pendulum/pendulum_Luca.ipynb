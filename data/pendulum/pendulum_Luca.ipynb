{
 "cells": [
  {
   "cell_type": "markdown",
   "metadata": {},
   "source": [
    "# Analyze pendulum data\n",
    "Use this notebook to quickly test whether your pendulum data makes sense!"
   ]
  },
  {
   "cell_type": "code",
   "execution_count": 47,
   "metadata": {},
   "outputs": [],
   "source": [
    "# Imports\n",
    "import numpy as np\n",
    "import matplotlib.pyplot as plt"
   ]
  },
  {
   "cell_type": "code",
   "execution_count": 50,
   "metadata": {},
   "outputs": [],
   "source": [
    "# Example file location\n",
    "filename_example = 'timer_output_luca.dat'\n",
    "#f = open ('timer_output_luca.dat','r')\n",
    "#f.read()"
   ]
  },
  {
   "cell_type": "code",
   "execution_count": 51,
   "metadata": {},
   "outputs": [],
   "source": [
    "#f.close()"
   ]
  },
  {
   "cell_type": "markdown",
   "metadata": {},
   "source": [
    "## Data reader"
   ]
  },
  {
   "cell_type": "code",
   "execution_count": 52,
   "metadata": {
    "code_folding": []
   },
   "outputs": [],
   "source": [
    "# Read in data\n",
    "def read_data(filename):\n",
    "    dat = np.genfromtxt(filename, delimiter='\\t', names=('n', 't_s'))\n",
    "    return dat"
   ]
  },
  {
   "cell_type": "code",
   "execution_count": 53,
   "metadata": {},
   "outputs": [
    {
     "name": "stdout",
     "output_type": "stream",
     "text": [
      "[ 1.3064  2.5879  4.0967  5.3716  6.8442  8.1439  9.5957 10.9237 12.3996\n",
      " 13.7158 15.2075 16.5316 17.9313 19.2635 20.7074 22.0029 23.4716 24.7791\n",
      " 26.279  27.571  29.003  30.2868 31.7868 33.2466 34.5468 35.858  37.3827\n",
      " 38.6342 40.0826 41.3743 42.8665 44.2143 45.6904 46.954  48.4212 49.7543\n",
      " 51.2217 52.4816 53.9781 55.2338 56.77   57.9616 59.5142 60.7214 62.3141\n",
      " 63.5374 65.0945 66.2973 67.8497 69.181 ]\n"
     ]
    }
   ],
   "source": [
    "data = read_data(filename_example)\n",
    "print(data['t_s'])"
   ]
  },
  {
   "cell_type": "markdown",
   "metadata": {},
   "source": [
    "## Read and plot the data"
   ]
  },
  {
   "cell_type": "code",
   "execution_count": 54,
   "metadata": {
    "code_folding": []
   },
   "outputs": [
    {
     "data": {
      "text/plain": [
       "[(0.0, 70.46249999999999), (0.0, 51.0)]"
      ]
     },
     "execution_count": 54,
     "metadata": {},
     "output_type": "execute_result"
    },
    {
     "data": {
      "image/png": "[encoded data removed]",
      "text/plain": [
       "<Figure size 576x720 with 2 Axes>"
      ]
     },
     "metadata": {
      "needs_background": "light"
     },
     "output_type": "display_data"
    }
   ],
   "source": [
    "data_example = read_data(filename_example)\n",
    "n, t = data_example['n'], data_example['t_s']\n",
    "\n",
    "# Plotting\n",
    "sig_t = 0.1     # Set your own values...\n",
    "fig, ax = plt.subplots(nrows=2, ncols=1, figsize=(8, 10),\n",
    "                       gridspec_kw={'height_ratios':[4,1]}, sharex=True)\n",
    "ax[0].errorbar(n, t, yerr=sig_t, color='k', fmt='o')\n",
    "#ax[0].plot(n_plot, t_plot3)\n",
    "ax[0].set_xlabel('Timing measurement number')\n",
    "ax[0].set_ylabel('Time elapsed (s)')\n",
    "ax[0].set(xlim=(0, n[-1]+np.ediff1d(n)[0]), ylim=(0, t[-1]+np.ediff1d(t)[0]))\n"
   ]
  },
  {
   "cell_type": "markdown",
   "metadata": {},
   "source": [
    "# What to do next?\n",
    "\n",
    "The reason for the (empty) plot below is, that though your data (hopefully) lies on a line, you're not able to see any smaller effects. However, if you plot the __residuals__ (the difference between your measurements and a fit to them), then you will much better be able to tell, if the data looks good. Also, it is from a historgram of the residuals, that you can determine, if your errors are Gaussian, and from the RMS what your (typical) uncert"
   ]
  }
 ],
 "metadata": {
  "kernelspec": {
   "display_name": "Python 3",
   "language": "python",
   "name": "python3"
  },
  "language_info": {
   "codemirror_mode": {
    "name": "ipython",
    "version": 3
   },
   "file_extension": ".py",
   "mimetype": "text/x-python",
   "name": "python",
   "nbconvert_exporter": "python",
   "pygments_lexer": "ipython3",
   "version": "3.8.3"
  }
 },
 "nbformat": 4,
 "nbformat_minor": 4
}
