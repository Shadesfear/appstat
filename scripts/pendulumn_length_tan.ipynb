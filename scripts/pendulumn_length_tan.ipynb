{
 "cells": [
  {
   "cell_type": "markdown",
   "metadata": {},
   "source": [
    "what we need to do in pendulumn:\n",
    "1.measure  T ± σ(T) correctly? Combine with Chi2 and comments?(the same in L)"
   ]
  },
  {
   "cell_type": "code",
   "execution_count": 9,
   "metadata": {},
   "outputs": [],
   "source": [
    "import numpy as np\n"
   ]
  },
  {
   "cell_type": "code",
   "execution_count": 10,
   "metadata": {},
   "outputs": [],
   "source": [
    "def weighted_average(x,sigma):\n",
    "    above=0\n",
    "    under=0\n",
    "    for i in range(len(x)):\n",
    "        above += x[i]/np.square(sigma[i])\n",
    "        under += 1/np.square(sigma[i])\n",
    "    mean=above/under\n",
    "    return mean"
   ]
  },
  {
   "cell_type": "code",
   "execution_count": 11,
   "metadata": {},
   "outputs": [],
   "source": [
    "#def the_resolution(error):\n",
    "    "
   ]
  },
  {
   "cell_type": "code",
   "execution_count": 12,
   "metadata": {},
   "outputs": [
    {
     "name": "stdout",
     "output_type": "stream",
     "text": [
      "191.74295787904248\n"
     ]
    }
   ],
   "source": [
    "line_length=[189.5, 190.1, 190.3, 189.0]\n",
    "line_error=[0.2,0.2,0.2,0.5]\n",
    "\n",
    "pendulum_length=[3.7,3.6,3.7,3.6,3.65]\n",
    "pen_error=[0.1,0.5,0.2,0.2,0.01]\n",
    "\n",
    "\n",
    "mean_line=weighted_average(line_length,line_error)\n",
    "mean_pen=weighted_average(pendulum_length,pen_error)\n",
    "\n",
    "mean_L=mean_line+mean_pen*0.5#get the averaging weighted measurements L\n",
    "\n",
    "var_line=np.var(line_length)\n",
    "var_pen=np.var(pendulum_length)\n",
    "\n",
    "mean_L=mean_line+0.5*mean_pen\n",
    "sigma=np.sqrt((var_line+var_pen)*0.5)\n",
    "\n",
    "#print('the length of L= %f, the sigma = %f'%(mean_line,sigma))\n",
    "print(mean_L)"
   ]
  },
  {
   "cell_type": "code",
   "execution_count": 31,
   "metadata": {},
   "outputs": [
    {
     "name": "stdout",
     "output_type": "stream",
     "text": [
      "9.84417714510675\n"
     ]
    }
   ],
   "source": [
    "T=1.3865*2\n",
    "g=(mean_L/100)*(2*np.pi/T)**2\n",
    "print(g)"
   ]
  },
  {
   "cell_type": "code",
   "execution_count": null,
   "metadata": {},
   "outputs": [],
   "source": []
  },
  {
   "cell_type": "code",
   "execution_count": null,
   "metadata": {},
   "outputs": [],
   "source": []
  }
 ],
 "metadata": {
  "kernelspec": {
   "display_name": "Python 3",
   "language": "python",
   "name": "python3"
  },
  "language_info": {
   "codemirror_mode": {
    "name": "ipython",
    "version": 3
   },
   "file_extension": ".py",
   "mimetype": "text/x-python",
   "name": "python",
   "nbconvert_exporter": "python",
   "pygments_lexer": "ipython3",
   "version": "3.9.0"
  }
 },
 "nbformat": 4,
 "nbformat_minor": 4
}
