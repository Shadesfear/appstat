{
 "cells": [
  {
   "cell_type": "code",
   "execution_count": 1,
   "metadata": {},
   "outputs": [],
   "source": [
    "import numpy as np\n",
    "import matplotlib.pyplot as plt\n",
    "from IPython.core.display import Latex\n",
    "from sympy import * \n",
    "from iminuit import Minuit\n",
    "import seaborn as sns\n",
    "import pandas as pd\n",
    "import scipy as sp\n",
    "import sys                                             # Modules to see files and folders in directories\n",
    "sys.path.append('External_Functions')\n",
    "from ExternalFunctions import Chi2Regression\n",
    "from ExternalFunctions import nice_string_output, add_text_to_ax # useful functions to print fit results on figure\n",
    "from scipy.stats import binom, poisson, norm\n",
    "from simple_pendulum_functions import Residual_time\n",
    "from Universal_functions import weighted_mean,uncertainty_weighted"
   ]
  },
  {
   "cell_type": "code",
   "execution_count": 2,
   "metadata": {},
   "outputs": [],
   "source": [
    "\n",
    "def lprint(*args,**kwargs):\n",
    "    \"\"\"Pretty print arguments as LaTeX using IPython display system \n",
    "    \n",
    "    Parameters\n",
    "    ----------\n",
    "    args : tuple \n",
    "        What to print (in LaTeX math mode)\n",
    "    kwargs : dict \n",
    "        optional keywords to pass to `display` \n",
    "    \"\"\"\n",
    "    display(Latex('$$'+' '.join(args)+'$$'),**kwargs)"
   ]
  },
  {
   "cell_type": "code",
   "execution_count": 3,
   "metadata": {},
   "outputs": [],
   "source": [
    "Tan=np.loadtxt(\"../data/pendulum/timer_output1_tan.dat\")\n",
    "Michael1=np.loadtxt(\"../data/pendulum/trash_data_Michael.dat\")\n",
    "Michael2=np.loadtxt(\"../data/pendulum/better_data_Michael.dat\")\n",
    "Chris=np.loadtxt(\"../data/pendulum/chris_data_0.dat\")\n",
    "Luca=np.loadtxt(\"../data/pendulum/timer_output_luca.dat\")"
   ]
  },
  {
   "cell_type": "code",
   "execution_count": 4,
   "metadata": {},
   "outputs": [],
   "source": [
    "def fit_function_Lin(x, slope, intercept):\n",
    "    return intercept + slope*x"
   ]
  },
  {
   "cell_type": "code",
   "execution_count": 5,
   "metadata": {},
   "outputs": [
    {
     "name": "stdout",
     "output_type": "stream",
     "text": [
      "5\n"
     ]
    }
   ],
   "source": [
    "Time_lib={\"Tan\":Tan[1:,1],\"Michael1\":Michael1[:,1]-min(Michael1[:,1]),\"Michael2\":Michael2[1:51,1],\"Chris\":Chris[:,1],\"Luca\":Luca[:,1]}\n",
    "Number_lib={\"Tan\":Tan[1:,0],\"Michael1\":Michael1[:,0],\"Michael2\":Michael2[1:51,0],\"Chris\":Chris[:,0],\"Luca\":Luca[:,0]}\n",
    "Time=pd.DataFrame(Time_lib)\n",
    "Number=pd.DataFrame(Number_lib)\n",
    "print(len(Number_lib))"
   ]
  },
  {
   "cell_type": "code",
   "execution_count": 6,
   "metadata": {},
   "outputs": [],
   "source": [
    "chi2_object_Tan = Chi2Regression(fit_function_Lin, Number.Tan,Time.Tan, Time.Michael1.std()) \n",
    "chi2_object_Michael1  = Chi2Regression(fit_function_Lin, Number.Michael1,Time.Michael1, Time.Michael1.std()) \n",
    "chi2_object_Michael2  = Chi2Regression(fit_function_Lin, Number.Michael2,Time.Michael2, Time.Michael2.std())\n",
    "chi2_object_Luca  = Chi2Regression(fit_function_Lin, Number.Luca,Time.Luca, Time.Luca.std()) \n",
    "chi2_object_Chris  = Chi2Regression(fit_function_Lin, Number.Chris,Time.Chris, Time.Chris.std()) \n",
    "minuitLin_Tan = Minuit(chi2_object_Tan, pedantic=False, intercept=1, slope=1, print_level=0) \n",
    "minuitLin_Michael1 = Minuit(chi2_object_Michael1, pedantic=False, intercept=1, slope=1, print_level=0) \n",
    "minuitLin_Michael2 = Minuit(chi2_object_Michael2, pedantic=False, intercept=1, slope=1, print_level=0) \n",
    "minuitLin_Luca = Minuit(chi2_object_Luca, pedantic=False, intercept=1, slope=1, print_level=0) \n",
    "minuitLin_Chris = Minuit(chi2_object_Chris, pedantic=False, intercept=1, slope=1, print_level=0) \n",
    "minuitLin_Tan.migrad();\n",
    "minuitLin_Michael1.migrad(); \n",
    "minuitLin_Michael2.migrad(); \n",
    "minuitLin_Luca.migrad(); \n",
    "minuitLin_Chris.migrad(); "
   ]
  },
  {
   "cell_type": "code",
   "execution_count": 7,
   "metadata": {},
   "outputs": [],
   "source": [
    "Time_Tan_std=np.array(fit_function_Lin(Number.Tan,minuitLin_Tan.args[0],minuitLin_Tan.args[1])-Time.Tan).std()\n",
    "Time_Luca_std=np.array(fit_function_Lin(Number.Luca,minuitLin_Luca.args[0],minuitLin_Luca.args[1])-Time.Luca).std()\n",
    "Time_Michael2_std=np.array(fit_function_Lin(Number.Michael2,minuitLin_Michael2.args[0],minuitLin_Michael2.args[1])-Time.Michael2).std()\n",
    "Time_Chris_std=np.array(fit_function_Lin(Number.Chris,minuitLin_Chris.args[0],minuitLin_Chris.args[1])-Time.Chris).std()"
   ]
  },
  {
   "cell_type": "code",
   "execution_count": 8,
   "metadata": {},
   "outputs": [],
   "source": [
    "chi2_object_Tan = Chi2Regression(fit_function_Lin, Number.Tan,Time.Tan, Time_Tan_std) \n",
    "chi2_object_Michael2  = Chi2Regression(fit_function_Lin, Number.Michael2,Time.Michael2, Time_Michael2_std)\n",
    "chi2_object_Luca  = Chi2Regression(fit_function_Lin, Number.Luca,Time.Luca, Time_Luca_std) \n",
    "chi2_object_Chris  = Chi2Regression(fit_function_Lin, Number.Chris,Time.Chris, Time_Chris_std) \n",
    "minuitLin_Tan = Minuit(chi2_object_Tan, pedantic=False, intercept=1, slope=1, print_level=0) \n",
    "minuitLin_Michael2 = Minuit(chi2_object_Michael2, pedantic=False, intercept=1, slope=1, print_level=0) \n",
    "minuitLin_Luca = Minuit(chi2_object_Luca, pedantic=False, intercept=1, slope=1, print_level=0) \n",
    "minuitLin_Chris = Minuit(chi2_object_Chris, pedantic=False, intercept=1, slope=1, print_level=0) \n",
    "minuitLin_Tan.migrad();\n",
    "minuitLin_Michael1.migrad(); \n",
    "minuitLin_Michael2.migrad(); \n",
    "minuitLin_Luca.migrad(); \n",
    "minuitLin_Chris.migrad(); "
   ]
  },
  {
   "cell_type": "code",
   "execution_count": 9,
   "metadata": {},
   "outputs": [
    {
     "name": "stdout",
     "output_type": "stream",
     "text": [
      "0.3938755170882758 50.00000000000021\n"
     ]
    }
   ],
   "source": [
    "NpointsLin = 50 - 2 # 3 parameters in fit\n",
    "Chi2Lin=minuitLin_Luca.fval \n",
    "Prob_gau = sp.stats.chi2.sf(Chi2Lin, NpointsLin) \n",
    "print(Prob_gau,Chi2Lin)"
   ]
  },
  {
   "cell_type": "code",
   "execution_count": 10,
   "metadata": {},
   "outputs": [],
   "source": [
    "def Residual_periode(periode,Number,Time):\n",
    "    return periode-Time/Number"
   ]
  },
  {
   "cell_type": "code",
   "execution_count": 11,
   "metadata": {},
   "outputs": [],
   "source": [
    "Tan,Chris,Luca,Michael2,Michael1=np.array([minuitLin_Tan.args[0],minuitLin_Tan.errors[0]]),np.array([minuitLin_Chris.args[0],minuitLin_Chris.errors[0]]),np.array([minuitLin_Luca.args[0],minuitLin_Luca.errors[0]]),np.array([minuitLin_Michael2.args[0],minuitLin_Michael2.errors[0]]),np.array([minuitLin_Michael1.args[0],minuitLin_Michael1.errors[0]])"
   ]
  },
  {
   "cell_type": "code",
   "execution_count": 12,
   "metadata": {},
   "outputs": [],
   "source": [
    "def sigma(x1,x2):\n",
    "    distance=abs(x1[0]-x2[0])/(x1[1]+x2[1])\n",
    "    return distance"
   ]
  },
  {
   "cell_type": "code",
   "execution_count": 15,
   "metadata": {},
   "outputs": [
    {
     "name": "stdout",
     "output_type": "stream",
     "text": [
      "[1.38281757 0.19754611] [1.38395277e+00 4.00587417e-04] [1.38547758e+00 5.91601677e-04] [1.38541762e+00 8.55731873e-04] [1.38651808e+00 7.17831174e-04]\n"
     ]
    }
   ],
   "source": [
    "print(Michael1,Michael2,Luca,Tan,Chris)"
   ]
  },
  {
   "cell_type": "code",
   "execution_count": 22,
   "metadata": {},
   "outputs": [
    {
     "name": "stdout",
     "output_type": "stream",
     "text": [
      "1.165981569907511 0.6993434336535 0.041432319817574274\n",
      "1.536815445272615 0.7946147043142133\n",
      "2.29369052110636\n",
      "0.005734891677363274\n"
     ]
    }
   ],
   "source": [
    "distance_Tan_michael=sigma(Tan,Michael2)\n",
    "distance_Tan_Chris=sigma(Tan,Chris)\n",
    "distance_Tan_Luca=sigma(Tan,Luca)\n",
    "print(distance_Tan_michael,distance_Tan_Chris,distance_Tan_Luca)\n",
    "distance_Luca_michael=sigma(Luca,Michael2)\n",
    "distance_Luca_Chris=sigma(Luca,Chris)\n",
    "print(distance_Luca_michael,distance_Luca_Chris)\n",
    "distance_Chris_michael=sigma(Chris,Michael2)\n",
    "print(distance_Chris_michael)\n",
    "distance_Michael_michael1=sigma(Michael2,Michael1)\n",
    "print(distance_Michael_michael1)\n"
   ]
  },
  {
   "cell_type": "code",
   "execution_count": 17,
   "metadata": {},
   "outputs": [],
   "source": [
    "Time_Tan_std=np.array(fit_function_Lin(Number.Tan,minuitLin_Tan.args[0],minuitLin_Tan.args[1])-Time.Tan)\n",
    "Time_Luca_std=np.array(fit_function_Lin(Number.Luca,minuitLin_Luca.args[0],minuitLin_Luca.args[1])-Time.Luca)\n",
    "Time_Michael2_std=np.array(fit_function_Lin(Number.Michael2,minuitLin_Michael2.args[0],minuitLin_Michael2.args[1])-Time.Michael2)\n",
    "Time_Chris_std=np.array(fit_function_Lin(Number.Chris,minuitLin_Chris.args[0],minuitLin_Chris.args[1])-Time.Chris)"
   ]
  },
  {
   "cell_type": "code",
   "execution_count": 18,
   "metadata": {},
   "outputs": [],
   "source": [
    "y_Tan=sp.stats.norm(Time_Tan_std.mean(), Time_Tan_std.std())\n",
    "x_Tan=np.linspace(-max(abs(Time_Tan_std)+0.1),max(abs(Time_Tan_std)+0.1),100)\n",
    "y_Luca=sp.stats.norm(Time_Luca_std.mean(), Time_Luca_std.std())\n",
    "x_Luca=np.linspace(-max(abs(Time_Luca_std)+0.1),max(abs(Time_Luca_std)+0.1),100)\n",
    "y_Michael2=sp.stats.norm(Time_Michael2_std.mean(), Time_Michael2_std.std())\n",
    "x_Michael2=np.linspace(-max(abs(Time_Michael2_std)+0.1),max(abs(Time_Michael2_std)+0.1),100)\n",
    "y_Chris=sp.stats.norm(Time_Chris_std.mean(), Time_Chris_std.std())\n",
    "x_Chris=np.linspace(-max(abs(Time_Chris_std)+0.1),max(abs(Time_Chris_std)+0.1),100)"
   ]
  },
  {
   "cell_type": "code",
   "execution_count": 24,
   "metadata": {},
   "outputs": [],
   "source": [
    "T1=weighted_mean(np.array([minuitLin_Tan.args[0],minuitLin_Luca.args[0],minuitLin_Michael2.args[0],minuitLin_Chris.args[0]]),np.array([minuitLin_Tan.errors[0],minuitLin_Luca.errors[0],minuitLin_Michael2.errors[0],minuitLin_Chris.errors[0]]))\n"
   ]
  },
  {
   "cell_type": "code",
   "execution_count": 25,
   "metadata": {},
   "outputs": [],
   "source": [
    "T_std=uncertainty_weighted(np.array([minuitLin_Tan.errors[0],minuitLin_Luca.errors[0],minuitLin_Chris.errors[0],minuitLin_Michael2.errors[0]]))"
   ]
  },
  {
   "cell_type": "code",
   "execution_count": 26,
   "metadata": {},
   "outputs": [
    {
     "name": "stdout",
     "output_type": "stream",
     "text": [
      "0.06545339921835441\n"
     ]
    }
   ],
   "source": [
    "T_std_retime=np.mean(np.array([Time_Luca_std.std(),Time_Michael2_std.std(),Time_Tan_std.std(),Time_Chris_std.std()]))\n",
    "print(T_std_retime)"
   ]
  },
  {
   "cell_type": "code",
   "execution_count": 27,
   "metadata": {},
   "outputs": [],
   "source": [
    "T2=weighted_mean(np.array([minuitLin_Tan.args[0],minuitLin_Luca.args[0],minuitLin_Michael2.args[0],minuitLin_Chris.args[0]]),np.array([Time_Luca_std.std(),Time_Michael2_std.std(),Time_Tan_std.std(),Time_Chris_std.std()]))"
   ]
  },
  {
   "cell_type": "code",
   "execution_count": null,
   "metadata": {},
   "outputs": [],
   "source": []
  },
  {
   "cell_type": "code",
   "execution_count": 28,
   "metadata": {},
   "outputs": [
    {
     "name": "stdout",
     "output_type": "stream",
     "text": [
      "9.86353293016141\n"
     ]
    }
   ],
   "source": [
    "print(1.9183149350649353*(2*np.pi/(T2*2))**2)"
   ]
  },
  {
   "cell_type": "code",
   "execution_count": 48,
   "metadata": {},
   "outputs": [
    {
     "data": {
      "image/png": "[encoded data removed]",
      "text/plain": [
       "<Figure size 720x720 with 4 Axes>"
      ]
     },
     "metadata": {
      "needs_background": "light"
     },
     "output_type": "display_data"
    }
   ],
   "source": [
    "fig,ax=plt.subplots(2,2,figsize=(10,10))\n",
    "ax[0,0].hist(Time_Tan_std,color=\"blue\",label=\"Tan\")\n",
    "ax[0,0].plot(x_Tan,y_Tan.pdf(x_Tan),'r',label=\"Tan_fit\")\n",
    "ax[1,0].hist(Time_Luca_std,color=\"cyan\",label=\"Luca\")\n",
    "ax[1,0].plot(x_Luca,y_Luca.pdf(x_Luca),color=\"red\",label=\"Luca_fit\")\n",
    "ax[1,1].hist(Time_Michael2_std,color=\"green\",label=\"Michael\")\n",
    "ax[1,1].plot(x_Michael2,y_Michael2.pdf(x_Michael2),color=\"red\",label=\"Michael_fit\")\n",
    "ax[0,1].hist(Time_Chris_std,color=\"yellow\",label=\"Chris\")\n",
    "ax[0,1].plot(x_Chris,y_Chris.pdf(x_Chris),'red',label=\"Chris_fit\")\n",
    "fig.suptitle('This is a somewhat long figure title', fontsize=16)\n",
    "ax[1,1].set_xlim(-0.25,0.25)\n",
    "ax[0,0].set_xlim(-0.25,0.25)\n",
    "ax[1,0].set_xlim(-0.25,0.25)\n",
    "ax[0,1].set_xlim(-0.25,0.25)\n",
    "ax[1,1].set_ylim(0,15)\n",
    "ax[0,0].set_ylim(0,15)\n",
    "ax[1,0].set_ylim(0,15)\n",
    "ax[0,1].set_ylim(0,15)\n",
    "ax[1,1].legend()\n",
    "ax[0,0].legend()\n",
    "ax[1,0].legend()\n",
    "ax[0,1].legend()\n",
    "ax[1,1].set_xlabel(\"Residual_Time\",fontsize=16)\n",
    "ax[0,0].set_xlabel(\"Residual_Time\",fontsize=16)\n",
    "ax[1,0].set_xlabel(\"Residual_Time\",fontsize=16)\n",
    "ax[0,1].set_xlabel(\"Residual_Time\",fontsize=16)\n",
    "ax[1,1].set_ylabel(\"Frequenzy\",fontsize=16)\n",
    "ax[0,0].set_ylabel(\"Frequenzy\",fontsize=16)\n",
    "ax[1,0].set_ylabel(\"Frequenzy\",fontsize=16)\n",
    "ax[0,1].set_ylabel(\"Frequenzy\",fontsize=16)\n",
    "d = {'Residual_mean':Time_Tan_std.mean(),'Residual_deviation':Time_Tan_std.std()}\n",
    "text = nice_string_output(d, extra_spacing=1, decimals=2)\n",
    "add_text_to_ax(0.04, 0.95, text, ax[0,0], fontsize=10)\n",
    "d1 = {'Residual_mean':Time_Chris_std.mean(),'Residual_deviation':Time_Chris_std.std()}\n",
    "text = nice_string_output(d1, extra_spacing=1, decimals=2)\n",
    "add_text_to_ax(0.04, 0.95, text, ax[0,1], fontsize=10)\n",
    "d2 = {'Residual_mean':Time_Luca_std.mean(),'Residual_deviation':Time_Luca_std.std()}\n",
    "text = nice_string_output(d2, extra_spacing=1, decimals=2)\n",
    "add_text_to_ax(0.04, 0.95, text, ax[1,0], fontsize=10)\n",
    "d3 = {'Residual_mean':Time_Michael2_std.mean(),'Residual_deviation':Time_Michael2_std.std()}\n",
    "text = nice_string_output(d3, extra_spacing=1, decimals=2)\n",
    "add_text_to_ax(0.04, 0.95, text, ax[1,1], fontsize=10)\n",
    "fig.suptitle('Residual_Time', fontsize=16)\n",
    "fig.savefig(\"Residualplots\")"
   ]
  },
  {
   "cell_type": "code",
   "execution_count": 33,
   "metadata": {},
   "outputs": [],
   "source": [
    "combined=np.block([Time_Tan_std,Time_Luca_std,Time_Michael2_std,Time_Chris_std])\n",
    "y_combined=sp.stats.norm(combined.mean(), combined.std())\n",
    "x_combined=np.linspace(-max(abs(combined)),max(abs(combined)),100)"
   ]
  },
  {
   "cell_type": "code",
   "execution_count": 46,
   "metadata": {},
   "outputs": [
    {
     "name": "stdout",
     "output_type": "stream",
     "text": [
      "0.06764871906943909 -2.0474433259920488e-12\n"
     ]
    }
   ],
   "source": [
    "print(np.std(combined),np.mean(combined))\n"
   ]
  },
  {
   "cell_type": "code",
   "execution_count": 34,
   "metadata": {},
   "outputs": [],
   "source": [
    "x=np.linspace(0,50,50+1)"
   ]
  },
  {
   "cell_type": "code",
   "execution_count": 35,
   "metadata": {},
   "outputs": [
    {
     "ename": "SyntaxError",
     "evalue": "unexpected EOF while parsing (<ipython-input-35-e91768f39a54>, line 7)",
     "output_type": "error",
     "traceback": [
      "\u001b[0;36m  File \u001b[0;32m\"<ipython-input-35-e91768f39a54>\"\u001b[0;36m, line \u001b[0;32m7\u001b[0m\n\u001b[0;31m    Time_Michael2_std.std()\u001b[0m\n\u001b[0m                           ^\u001b[0m\n\u001b[0;31mSyntaxError\u001b[0m\u001b[0;31m:\u001b[0m unexpected EOF while parsing\n"
     ]
    }
   ],
   "source": [
    "T_std_Tan=sum(Time_Tan_std**2/(len(Time_Tan_std)))\n",
    "T_std_Luca=sum(Time_Luca_std**2/(len(Time_Luca_std)))\n",
    "T_std_Chris=sum(Time_Chris_std**2/(len(Time_Chris_std)))\n",
    "T_std_Michael2=sum(Time_Michael2_std**2/(len(Time_Michael2_std)))\n",
    "print(np.mean([T_std_Tan,T_std_Luca,T_std_Chris,T_std_Michael2]))\n",
    "print(T_std_Luca,Time_Luca_std.std(),Time_Tan_std.std(),Time_Michael2_std.std(),\n",
    "Time_Michael2_std.std()"
   ]
  },
  {
   "cell_type": "code",
   "execution_count": 49,
   "metadata": {},
   "outputs": [
    {
     "name": "stderr",
     "output_type": "stream",
     "text": [
      "<ipython-input-49-e5acaf76aaa6>:24: UserWarning: This figure includes Axes that are not compatible with tight_layout, so results might be incorrect.\n",
      "  fig.tight_layout()\n"
     ]
    },
    {
     "data": {
      "image/png": "[encoded data removed]",
      "text/plain": [
       "<Figure size 720x720 with 3 Axes>"
      ]
     },
     "metadata": {
      "needs_background": "light"
     },
     "output_type": "display_data"
    }
   ],
   "source": [
    "\n",
    "fig=plt.figure(figsize=(10,10))\n",
    "ax=fig.add_axes([0,0,1,1])\n",
    "#sns.FacetGrid(weighted_mean_Time)\n",
    "ax1=fig.add_axes([0.65,0.2,0.3,0.3])\n",
    "\n",
    "ax2 = ax.twinx()\n",
    "ax1.hist(Time_Michael2_std,color=\"green\")\n",
    "ax1.plot(x_Michael2,y_Michael2.pdf(x_Michael2),'red')\n",
    "sns.regplot(x,fit_function_Lin(x,T1,0),ax=ax)\n",
    "pos=(np.round(np.linspace(-Time_Michael2_std.std(),Time_Michael2_std.std(),3),2))\n",
    "ax2.errorbar(Number.Michael2,Time_Michael2_std,yerr=Time_Michael2_std.std(),fmt='o',color=\"red\")\n",
    "ax2.set_yticks(pos)\n",
    "ax2.set_yticklabels(pos.astype(str))\n",
    "ax2.set_ylim(-0.5,4)\n",
    "\n",
    "#add_text_to_ax(0.04, 0.9, text, ax, fontsize=20)\n",
    "d = {'Half period':[T1, T_std]}\n",
    "text = nice_string_output(d, extra_spacing=2, decimals=4)\n",
    "add_text_to_ax(0.04, 0.95, text, ax, fontsize=20)\n",
    "ax2.grid()\n",
    "ax.set_xlabel(\"Number\",fontsize=16)\n",
    "ax.set_ylabel(\"Time[s]\",fontsize=16)\n",
    "#ax2.set_yscale('log')\n",
    "fig.tight_layout()\n",
    "fig.savefig(\"Data\")"
   ]
  },
  {
   "cell_type": "code",
   "execution_count": null,
   "metadata": {},
   "outputs": [],
   "source": []
  },
  {
   "cell_type": "code",
   "execution_count": 196,
   "metadata": {},
   "outputs": [],
   "source": [
    "Data=pd.read_csv(\"../data/data_setup.csv\")"
   ]
  },
  {
   "cell_type": "code",
   "execution_count": 197,
   "metadata": {},
   "outputs": [],
   "source": [
    "length_p19754611end=weighted_mean(np.array(Data.length_pend.dropna()),np.array(Data.lengh_pend_std.dropna()))/2*10**(-2)\n",
    "line_length=weighted_mean(np.array(Data.line_length.dropna()),np.array(Data.line_length_std.dropna()))*10**(-2)\n",
    "length_pend_std=uncertainty_weighted(np.array(Data.lengh_pend_std.dropna()))*10**(-2)\n",
    "line_length_std=uncertainty_weighted(np.array(Data.line_length_std.dropna()))*10**(-2)\n",
    "tot_length=np.array([length_pend+line_length,length_pend_std+line_length_std])"
   ]
  },
  {
   "cell_type": "code",
   "execution_count": 198,
   "metadata": {},
   "outputs": [
    {
     "name": "stdout",
     "output_type": "stream",
     "text": [
      "[9.86411759 9.86326373 9.88501    9.84846577]\n"
     ]
    }
   ],
   "source": [
    "print((2*np.pi/(np.array([minuitLin_Tan.args[0],minuitLin_Luca.args[0],minuitLin_Michael2.args[0],minuitLin_Chris.args[0]])*2))**2*tot_length[0])"
   ]
  },
  {
   "cell_type": "code",
   "execution_count": 199,
   "metadata": {},
   "outputs": [],
   "source": [
    "L,g,T= symbols(\"L, g, T\")\n",
    "dL,dg,dT= symbols(\"sigma_L, sigma_g, sigma_T\")"
   ]
  },
  {
   "cell_type": "code",
   "execution_count": 200,
   "metadata": {},
   "outputs": [
    {
     "data": {
      "text/latex": [
       "$$g = \\frac{4 \\pi^{2} L}{T^{2}}$$"
      ],
      "text/plain": [
       "<IPython.core.display.Latex object>"
      ]
     },
     "metadata": {},
     "output_type": "display_data"
    },
    {
     "data": {
      "text/latex": [
       "$$\\sigma_{dg} = \\sqrt{\\frac{64 \\pi^{4} L^{2} \\sigma_{T}^{2}}{T^{6}} + \\frac{16 \\pi^{4} \\sigma_{L}^{2}}{T^{4}}}$$"
      ],
      "text/plain": [
       "<IPython.core.display.Latex object>"
      ]
     },
     "metadata": {},
     "output_type": "display_data"
    }
   ],
   "source": [
    "g=L*(2*pi/T)**2\n",
    "dg=sqrt((dL*g.diff(L))**2+(g.diff(T)*dT)**2)\n",
    "lprint(latex(Eq(symbols('g'), g)))\n",
    "lprint(latex(Eq(symbols('sigma_dg'), dg)))"
   ]
  },
  {
   "cell_type": "code",
   "execution_count": 235,
   "metadata": {},
   "outputs": [
    {
     "data": {
      "text/latex": [
       "$$g = (9.872 \\pm 0.207)\\,\\mathrm{m/s^2}$$"
      ],
      "text/plain": [
       "<IPython.core.display.Latex object>"
      ]
     },
     "metadata": {},
     "output_type": "display_data"
    }
   ],
   "source": [
    "# Turn expression into numerical functions \n",
    "fg = lambdify((L,T),g)\n",
    "fdg = lambdify((L,T,dL,dT),dg)\n",
    "# Numerically evaluate expressions and print \n",
    "vg= fg(tot_length[0],T1*2)\n",
    "vdg = fdg(tot_length[0],T1*2,tot_length[1],T_std_retime)\n",
    "lprint(fr'g = ({np.round(vg,3):} \\pm {np.round(vdg,3)})\\,\\mathrm{{m/s^2}}')\n",
    "\n"
   ]
  },
  {
   "cell_type": "code",
   "execution_count": 248,
   "metadata": {},
   "outputs": [
    {
     "name": "stdout",
     "output_type": "stream",
     "text": [
      "1.9183149350649353\n"
     ]
    }
   ],
   "source": [
    "print(tot_length[0])"
   ]
  },
  {
   "cell_type": "code",
   "execution_count": 203,
   "metadata": {},
   "outputs": [
    {
     "data": {
      "text/plain": [
       "2.7697345720296167"
      ]
     },
     "execution_count": 203,
     "metadata": {},
     "output_type": "execute_result"
    }
   ],
   "source": [
    "T1*2"
   ]
  },
  {
   "cell_type": "code",
   "execution_count": 78,
   "metadata": {},
   "outputs": [
    {
     "data": {
      "text/plain": [
       "2.8241072999999997"
      ]
     },
     "execution_count": 78,
     "metadata": {},
     "output_type": "execute_result"
    }
   ],
   "source": [
    "1.017*2.7769"
   ]
  },
  {
   "cell_type": "code",
   "execution_count": 79,
   "metadata": {},
   "outputs": [
    {
     "data": {
      "text/plain": [
       "0.016816915100453505"
      ]
     },
     "execution_count": 79,
     "metadata": {},
     "output_type": "execute_result"
    }
   ],
   "source": [
    "(2.8241072999999997-2.7774)/2.7774"
   ]
  },
  {
   "cell_type": "code",
   "execution_count": null,
   "metadata": {},
   "outputs": [],
   "source": []
  }
 ],
 "metadata": {
  "kernelspec": {
   "display_name": "Python 3",
   "language": "python",
   "name": "python3"
  },
  "language_info": {
   "codemirror_mode": {
    "name": "ipython",
    "version": 3
   },
   "file_extension": ".py",
   "mimetype": "text/x-python",
   "name": "python",
   "nbconvert_exporter": "python",
   "pygments_lexer": "ipython3",
   "version": "3.8.3"
  }
 },
 "nbformat": 4,
 "nbformat_minor": 4
}
