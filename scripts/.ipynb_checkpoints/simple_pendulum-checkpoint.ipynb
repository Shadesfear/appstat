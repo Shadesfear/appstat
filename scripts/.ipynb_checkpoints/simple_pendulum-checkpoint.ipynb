{
 "cells": [
  {
   "cell_type": "code",
   "execution_count": 119,
   "metadata": {},
   "outputs": [],
   "source": [
    "import numpy as np\n",
    "import matplotlib.pyplot as plt\n",
    "from IPython.core.display import Latex\n",
    "from sympy import * \n",
    "from iminuit import Minuit\n",
    "import seaborn as sns\n",
    "import pandas as pd\n",
    "import scipy as sp\n",
    "import sys                                             # Modules to see files and folders in directories\n",
    "sys.path.append('External_Functions')\n",
    "from ExternalFunctions import Chi2Regression\n",
    "from ExternalFunctions import nice_string_output, add_text_to_ax # useful functions to print fit results on figure\n",
    "from scipy.stats import binom, poisson, norm\n",
    "from simple_pendulum_functions import Residual_time\n",
    "from Universal_functions import weighted_mean,uncertainty_weighted"
   ]
  },
  {
   "cell_type": "code",
   "execution_count": 120,
   "metadata": {},
   "outputs": [],
   "source": [
    "\n",
    "def lprint(*args,**kwargs):\n",
    "    \"\"\"Pretty print arguments as LaTeX using IPython display system \n",
    "    \n",
    "    Parameters\n",
    "    ----------\n",
    "    args : tuple \n",
    "        What to print (in LaTeX math mode)\n",
    "    kwargs : dict \n",
    "        optional keywords to pass to `display` \n",
    "    \"\"\"\n",
    "    display(Latex('$$'+' '.join(args)+'$$'),**kwargs)"
   ]
  },
  {
   "cell_type": "code",
   "execution_count": 121,
   "metadata": {},
   "outputs": [],
   "source": [
    "Tan=np.loadtxt(\"../data/pendulum/timer_output1_tan.dat\")\n",
    "Michael1=np.loadtxt(\"../data/pendulum/trash_data_Michael.dat\")\n",
    "Michael2=np.loadtxt(\"../data/pendulum/better_data_Michael.dat\")\n",
    "Chris=np.loadtxt(\"../data/pendulum/chris_data_0.dat\")\n",
    "Luca=np.loadtxt(\"../data/pendulum/timer_output_luca.dat\")"
   ]
  },
  {
   "cell_type": "code",
   "execution_count": 122,
   "metadata": {},
   "outputs": [],
   "source": [
    "def fit_function_Lin(x, slope, intercept):\n",
    "    return intercept + slope*x"
   ]
  },
  {
   "cell_type": "code",
   "execution_count": 123,
   "metadata": {},
   "outputs": [
    {
     "name": "stdout",
     "output_type": "stream",
     "text": [
      "51 50 52 50 50\n"
     ]
    }
   ],
   "source": [
    "print(len(Tan),len(Michael1),len(Michael2),len(Chris),len(Luca))"
   ]
  },
  {
   "cell_type": "code",
   "execution_count": 124,
   "metadata": {},
   "outputs": [
    {
     "name": "stdout",
     "output_type": "stream",
     "text": [
      "5\n"
     ]
    }
   ],
   "source": [
    "Time_lib={\"Tan\":Tan[5:,1],\"Michael1\":Michael1[4:,1]-min(Michael1[4:,1]),\"Michael2\":Michael2[5:51,1],\"Chris\":Chris[4:,1],\"Luca\":Luca[4:,1]}\n",
    "Number_lib={\"Tan\":Tan[5:,0],\"Michael1\":Michael1[4:,0],\"Michael2\":Michael2[5:51,0],\"Chris\":Chris[4:,0],\"Luca\":Luca[4:,0]}\n",
    "Time=pd.DataFrame(Time_lib)\n",
    "Number=pd.DataFrame(Number_lib)\n",
    "print(len(Number_lib))"
   ]
  },
  {
   "cell_type": "code",
   "execution_count": 125,
   "metadata": {},
   "outputs": [],
   "source": [
    "Residual_time1={\"Tan\":Residual_time(Time.Tan,Number.Tan),\"Michael1\":Residual_time(Time.Michael1,Number.Michael1),\"Michael2\":Residual_time(Time.Michael2,Number.Michael2),\"Chris\":Residual_time(Time.Chris,Number.Chris),\"Luca\":Residual_time(Time.Luca,Number.Luca)}\n",
    "Residual_Time_data=pd.DataFrame(Residual_time1)"
   ]
  },
  {
   "cell_type": "code",
   "execution_count": 126,
   "metadata": {},
   "outputs": [],
   "source": [
    "chi2_object_Tan = Chi2Regression(fit_function_Lin, Number.Tan,Time.Tan, Time.Tan.std()) \n",
    "chi2_object_Michael1  = Chi2Regression(fit_function_Lin, Number.Michael1,Time.Michael1, Time.Michael1.std()) \n",
    "chi2_object_Michael2  = Chi2Regression(fit_function_Lin, Number.Michael2,Time.Michael2, Time.Michael2.std())\n",
    "chi2_object_Luca  = Chi2Regression(fit_function_Lin, Number.Luca,Time.Luca, Time.Luca.std()) \n",
    "chi2_object_Chris  = Chi2Regression(fit_function_Lin, Number.Chris,Time.Chris, Time.Chris.std()) \n",
    "minuitLin_Tan = Minuit(chi2_object_Tan, pedantic=False, intercept=1, slope=1, print_level=0) \n",
    "minuitLin_Michael1 = Minuit(chi2_object_Michael1, pedantic=False, intercept=1, slope=1, print_level=0) \n",
    "minuitLin_Michael2 = Minuit(chi2_object_Michael2, pedantic=False, intercept=1, slope=1, print_level=0) \n",
    "minuitLin_Luca = Minuit(chi2_object_Luca, pedantic=False, intercept=1, slope=1, print_level=0) \n",
    "minuitLin_Chris = Minuit(chi2_object_Chris, pedantic=False, intercept=1, slope=1, print_level=0) \n",
    "minuitLin_Tan.migrad();\n",
    "minuitLin_Michael1.migrad(); \n",
    "minuitLin_Michael2.migrad(); \n",
    "minuitLin_Luca.migrad(); \n",
    "minuitLin_Chris.migrad(); "
   ]
  },
  {
   "cell_type": "code",
   "execution_count": 127,
   "metadata": {},
   "outputs": [],
   "source": [
    "Rsidual_time_combined=np.block([Residual_Time_data.Tan,Residual_Time_data.Luca,Residual_Time_data.Chris])"
   ]
  },
  {
   "cell_type": "code",
   "execution_count": 128,
   "metadata": {},
   "outputs": [],
   "source": [
    "weighted_mean_Time=[]\n",
    "std_mean_time=[]\n",
    "for i in range(len(Time.Tan)):\n",
    "    weighted_mean_Time.append(np.mean(np.array([Time.Tan[i],Time.Luca[i],Time.Chris[i]])))\n",
    "    std_mean_time.append(np.mean(np.abs(np.array([Residual_Time_data.Tan[i],Residual_Time_data.Luca[i],Residual_Time_data.Chris[i]]))))"
   ]
  },
  {
   "cell_type": "code",
   "execution_count": 156,
   "metadata": {},
   "outputs": [],
   "source": [
    "x_pend=np.linspace(4,50,46)"
   ]
  },
  {
   "cell_type": "code",
   "execution_count": 157,
   "metadata": {},
   "outputs": [],
   "source": [
    "Residual_times=[]\n",
    "Residual_times_std=[]\n",
    "for i in range(len(Residual_Time_data.Tan)):\n",
    "    Residual_times.append(weighted_mean(np.array([Residual_Time_data.Tan[i],Residual_Time_data.Luca[i],Residual_Time_data.Chris[i]]),np.array([Residual_Time_data.Tan.mean(),Residual_Time_data.Luca.mean(),Residual_Time_data.Chris.mean()])))\n",
    "    Residual_times_std.append(uncertainty_weighted([Residual_Time_data.Tan.mean(),Residual_Time_data.Luca.mean(),Residual_Time_data.Chris.mean()]))"
   ]
  },
  {
   "cell_type": "code",
   "execution_count": 158,
   "metadata": {},
   "outputs": [],
   "source": [
    "Residual_times=[]\n",
    "Residual_times_std=[]\n",
    "for i in range(len(Residual_Time_data.Tan)):\n",
    "    Residual_times.append(np.mean(np.array([Residual_Time_data.Tan[i],Residual_Time_data.Luca[i],Residual_Time_data.Chris[i]])))\n",
    "    Residual_times_std.append(uncertainty_weighted([Residual_Time_data.Tan.mean(),Residual_Time_data.Luca.mean(),Residual_Time_data.Chris.mean()]))"
   ]
  },
  {
   "cell_type": "code",
   "execution_count": 159,
   "metadata": {},
   "outputs": [],
   "source": [
    "RMS=np.sqrt(sum(Rsidual_time_combined**2)/len(Rsidual_time_combined))"
   ]
  },
  {
   "cell_type": "code",
   "execution_count": 160,
   "metadata": {},
   "outputs": [],
   "source": [
    "chi2= Chi2Regression(fit_function_Lin, x_pend,weighted_mean_Time,RMS)\n",
    "minuit = Minuit(chi2, pedantic=False, slope=1,intercept=0) #   \n",
    "minuit.migrad();       # Perform the actual fit\n",
    "NpointsLin = 45 - 2 # 3 parameters in fit\n",
    "Chi2Lin=minuit.fval \n",
    "Prob_gau = sp.stats.chi2.sf(Chi2Lin, NpointsLin) "
   ]
  },
  {
   "cell_type": "code",
   "execution_count": 161,
   "metadata": {},
   "outputs": [
    {
     "data": {
      "text/plain": [
       "<matplotlib.axes._subplots.AxesSubplot at 0x7fde823a9220>"
      ]
     },
     "execution_count": 161,
     "metadata": {},
     "output_type": "execute_result"
    },
    {
     "data": {
      "image/png": "[encoded data removed]",
      "text/plain": [
       "<Figure size 432x288 with 1 Axes>"
      ]
     },
     "metadata": {
      "needs_background": "light"
     },
     "output_type": "display_data"
    }
   ],
   "source": [
    "#fig,ax=plt.subplots(1,1,figsize=(10,10))\n",
    "#sns.FacetGrid(weighted_mean_Time,ax=ax)\n",
    "sns.distplot(Rsidual_time_combined)\n",
    "#g.twinx()"
   ]
  },
  {
   "cell_type": "code",
   "execution_count": 162,
   "metadata": {},
   "outputs": [],
   "source": [
    "x_conbined=np.linspace(-max(abs(Rsidual_time_combined)),max(abs(Rsidual_time_combined)),100)\n",
    "y_Combined=sp.stats.norm(Rsidual_time_combined.mean(), Rsidual_time_combined.std())"
   ]
  },
  {
   "cell_type": "code",
   "execution_count": 163,
   "metadata": {},
   "outputs": [
    {
     "data": {
      "text/plain": [
       "9.788157310519497e-05"
      ]
     },
     "execution_count": 163,
     "metadata": {},
     "output_type": "execute_result"
    }
   ],
   "source": [
    "minuit.errors[0]"
   ]
  },
  {
   "cell_type": "code",
   "execution_count": 173,
   "metadata": {},
   "outputs": [
    {
     "name": "stderr",
     "output_type": "stream",
     "text": [
      "<ipython-input-173-191ae2f3aec2>:26: UserWarning: This figure includes Axes that are not compatible with tight_layout, so results might be incorrect.\n",
      "  fig.tight_layout()\n"
     ]
    },
    {
     "data": {
      "image/png": "[encoded data removed]",
      "text/plain": [
       "<Figure size 720x720 with 3 Axes>"
      ]
     },
     "metadata": {
      "needs_background": "light"
     },
     "output_type": "display_data"
    }
   ],
   "source": [
    "\n",
    "fig=plt.figure(figsize=(10,10))\n",
    "ax=fig.add_axes([0,0,1,1])\n",
    "#sns.FacetGrid(weighted_mean_Time)\n",
    "ax1=fig.add_axes([0.65,0.2,0.3,0.3])\n",
    "ax2 = ax.twinx()\n",
    "#sns.scatterplot(x=Time.Tan,y=Residual_Time.Tan,ax=ax)\n",
    "sns.regplot(x_pend,fit_function_Lin(x_pend,minuit.args[0],minuit.args[1]),ax=ax)\n",
    "\n",
    "ax2.errorbar(Number.Tan-2,Residual_times,yerr=RMS,fmt='.')\n",
    "sns.regplot(x_pend,weighted_mean_Time,ax=ax)\n",
    "sns.distplot(Rsidual_time_combined,ax=ax1)\n",
    "sns.lineplot(x_conbined,y_Combined.pdf(x_conbined),ax=ax1)\n",
    "d = {'Intercept':[minuit.args[1], minuit.errors[1]],\n",
    "     'Slope':    [minuit.args[0], minuit.errors[0]]\n",
    "    ,'chi':[Chi2Lin,1],'prop':[Prob_gau,1]}\n",
    "ax2.set_ymargin(0)\n",
    "text = nice_string_output(d, extra_spacing=2, decimals=4)\n",
    "add_text_to_ax(0.04, 0.95, text, ax, fontsize=20)\n",
    "pos=(np.round(np.linspace(-0.02,0.02,5),2))\n",
    "ax2.set_yticks(pos)\n",
    "ax2.set_yticklabels(pos.astype(str))\n",
    "ax2.set_ylim(-0.05,0.6)\n",
    "#ax2.set_data_interval(self, -0.01, 0.01, ignore=False)\n",
    "ax2.grid()\n",
    "#ax2.set_yscale('log')\n",
    "fig.tight_layout()"
   ]
  },
  {
   "cell_type": "markdown",
   "metadata": {},
   "source": [
    "## weighted Length of the line Length + pendilum length"
   ]
  },
  {
   "cell_type": "code",
   "execution_count": 165,
   "metadata": {},
   "outputs": [],
   "source": [
    "Data=pd.read_csv(\"../data/data_setup.csv\")"
   ]
  },
  {
   "cell_type": "code",
   "execution_count": 166,
   "metadata": {},
   "outputs": [],
   "source": [
    "length_pend=weighted_mean(np.array(Data.length_pend.dropna()),np.array(Data.lengh_pend_std.dropna()))/2*10**(-2)\n",
    "line_length=weighted_mean(np.array(Data.line_length.dropna()),np.array(Data.line_length_std.dropna()))*10**(-2)\n",
    "length_pend_std=uncertainty_weighted(np.array(Data.lengh_pend_std.dropna()))*10**(-2)\n",
    "line_length_std=uncertainty_weighted(np.array(Data.line_length_std.dropna()))*10**(-2)\n",
    "tot_length=np.array([length_pend+line_length,length_pend_std+line_length_std])"
   ]
  },
  {
   "cell_type": "code",
   "execution_count": 167,
   "metadata": {},
   "outputs": [],
   "source": [
    "L,g,T= symbols(\"L, g, T\")\n",
    "dL,dg,dT= symbols(\"sigma_L, sigma_g, sigma_T\")"
   ]
  },
  {
   "cell_type": "code",
   "execution_count": 140,
   "metadata": {},
   "outputs": [
    {
     "data": {
      "text/latex": [
       "$$g = \\frac{4 \\pi^{2} L}{T^{2}}$$"
      ],
      "text/plain": [
       "<IPython.core.display.Latex object>"
      ]
     },
     "metadata": {},
     "output_type": "display_data"
    },
    {
     "data": {
      "text/latex": [
       "$$\\sigma_{dg} = \\sqrt{\\frac{64 \\pi^{4} L^{2} \\sigma_{T}^{2}}{T^{6}} + \\frac{16 \\pi^{4} \\sigma_{L}^{2}}{T^{4}}}$$"
      ],
      "text/plain": [
       "<IPython.core.display.Latex object>"
      ]
     },
     "metadata": {},
     "output_type": "display_data"
    }
   ],
   "source": [
    "g=L*(2*pi/T)**2\n",
    "dg=sqrt((dL*g.diff(L))**2+(g.diff(T)*dT)**2)\n",
    "lprint(latex(Eq(symbols('g'), g)))\n",
    "lprint(latex(Eq(symbols('sigma_dg'), dg)))"
   ]
  },
  {
   "cell_type": "code",
   "execution_count": 141,
   "metadata": {},
   "outputs": [
    {
     "name": "stdout",
     "output_type": "stream",
     "text": [
      "9.859998641513052\n",
      "9.85999864150869\n"
     ]
    }
   ],
   "source": [
    "print((tot_length[0])*(2*np.pi/(slope_weigted*2))**2)\n",
    "print((tot_length[0])*(2*np.pi/(minuit.args[0]*2))**2)"
   ]
  },
  {
   "cell_type": "code",
   "execution_count": 142,
   "metadata": {},
   "outputs": [
    {
     "data": {
      "text/latex": [
       "$$g = ([9.86 0.  ] \\pm 0.8)\\,\\mathrm{m/s^2}$$"
      ],
      "text/plain": [
       "<IPython.core.display.Latex object>"
      ]
     },
     "metadata": {},
     "output_type": "display_data"
    }
   ],
   "source": [
    "# Turn expression into numerical functions \n",
    "fg = lambdify((L,T),g)\n",
    "fdg = lambdify((L,T,dL,dT),dg)\n",
    "# Numerically evaluate expressions and print \n",
    "vg= fg(tot_length,slope_weigted*2)\n",
    "vdg = fdg(tot_length[0],slope_weigted*2,tot_length[1],slope_std_weigted)\n",
    "lprint(fr'g = ({np.round(vg,2):} \\pm {np.round(vdg,1)})\\,\\mathrm{{m/s^2}}')\n"
   ]
  },
  {
   "cell_type": "code",
   "execution_count": 143,
   "metadata": {},
   "outputs": [
    {
     "data": {
      "text/plain": [
       "0.0781936256962533"
      ]
     },
     "execution_count": 143,
     "metadata": {},
     "output_type": "execute_result"
    }
   ],
   "source": [
    "0.15/tot_length[0]"
   ]
  },
  {
   "cell_type": "code",
   "execution_count": null,
   "metadata": {},
   "outputs": [],
   "source": []
  },
  {
   "cell_type": "code",
   "execution_count": null,
   "metadata": {},
   "outputs": [],
   "source": []
  },
  {
   "cell_type": "code",
   "execution_count": null,
   "metadata": {},
   "outputs": [],
   "source": []
  }
 ],
 "metadata": {
  "kernelspec": {
   "display_name": "Python 3",
   "language": "python",
   "name": "python3"
  },
  "language_info": {
   "codemirror_mode": {
    "name": "ipython",
    "version": 3
   },
   "file_extension": ".py",
   "mimetype": "text/x-python",
   "name": "python",
   "nbconvert_exporter": "python",
   "pygments_lexer": "ipython3",
   "version": "3.8.3"
  }
 },
 "nbformat": 4,
 "nbformat_minor": 4
}
