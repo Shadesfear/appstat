{
 "cells": [
  {
   "cell_type": "code",
   "execution_count": null,
   "metadata": {},
   "outputs": [],
   "source": []
  },
  {
   "cell_type": "code",
   "execution_count": 1,
   "metadata": {},
   "outputs": [],
   "source": [
    "def mean_func(Time,Voltages):\n",
    "    from Rolling_ball_functions import data_sorting\n",
    "    import numpy as np\n",
    "    mean_Roll={}\n",
    "    std_Roll={}\n",
    "    for i in range(len(Time)):\n",
    "        mean_Roll[i]=[]\n",
    "        std_Roll[i]=[]\n",
    "        Roll=data_sorting(Time[i],Voltages[i])\n",
    "        for j in range(0,len(Roll[3])-1):\n",
    "            mean_Roll[i].append((np.mean(Roll[1][Roll[3][j]:Roll[3][j+1]])+np.mean(Roll[0][Roll[2][j]:Roll[2][j+1]]))/2)\n",
    "            std_Roll[i].append((np.std(Roll[1][Roll[3][j]:Roll[3][j+1]])+np.std(Roll[0][Roll[2][j]:Roll[2][j+1]])))\n",
    "        mean_Roll[i]=np.array(mean_Roll[i])-min(mean_Roll[i])\n",
    "    return mean_Roll,std_Roll"
   ]
  },
  {
   "cell_type": "code",
   "execution_count": null,
   "metadata": {},
   "outputs": [],
   "source": []
  }
 ],
 "metadata": {
  "kernelspec": {
   "display_name": "Python 3",
   "language": "python",
   "name": "python3"
  },
  "language_info": {
   "codemirror_mode": {
    "name": "ipython",
    "version": 3
   },
   "file_extension": ".py",
   "mimetype": "text/x-python",
   "name": "python",
   "nbconvert_exporter": "python",
   "pygments_lexer": "ipython3",
   "version": "3.8.3"
  }
 },
 "nbformat": 4,
 "nbformat_minor": 4
}
