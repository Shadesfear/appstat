{
 "cells": [
  {
   "cell_type": "code",
   "execution_count": 5,
   "metadata": {},
   "outputs": [],
   "source": [
    "import numpy as np\n",
    "import matplotlib.pyplot as plt\n",
    "from IPython.core.display import Latex\n",
    "from sympy import * \n",
    "from iminuit import Minuit\n",
    "import seaborn as sns\n",
    "import pandas as pd\n",
    "import scipy as sp\n",
    "import sys                                             # Modules to see files and folders in directories\n",
    "sys.path.append('External_Functions')\n",
    "from ExternalFunctions import Chi2Regression,nice_string_output, add_text_to_ax\n",
    "from scipy.stats import binom, poisson, norm\n",
    "from Rolling_ball_functions import data_sorting,data_import,mean_func\n",
    "from Universal_functions import weighted_mean,uncertainty_weighted,fit_multiple"
   ]
  },
  {
   "cell_type": "code",
   "execution_count": 6,
   "metadata": {},
   "outputs": [],
   "source": [
    "def fit_function_Lin(x, slope, intersection):\n",
    "    return intersection+ 1/2*slope*x**2 "
   ]
  },
  {
   "cell_type": "code",
   "execution_count": 7,
   "metadata": {},
   "outputs": [],
   "source": [
    "def lprint(*args,**kwargs):\n",
    "    \"\"\"Pretty print arguments as LaTeX using IPython display system \n",
    "    from IPython.core.display import Latex\n",
    "    from sympy import * \n",
    "    Parameters\n",
    "    ----------\n",
    "    args : tuple \n",
    "        What to print (in LaTeX math mode)\n",
    "    kwargs : dict \n",
    "        optional keywords to pass to `display` \n",
    "    \"\"\"\n",
    "    return display(Latex('$$'+' '.join(args)+'$$'),**kwargs)"
   ]
  },
  {
   "cell_type": "code",
   "execution_count": 8,
   "metadata": {},
   "outputs": [],
   "source": [
    "Data=pd.read_csv(\"../data/data_setup.csv\")"
   ]
  },
  {
   "cell_type": "code",
   "execution_count": 9,
   "metadata": {},
   "outputs": [],
   "source": [
    "Tea=np.arcsin(weighted_mean(Data.height.dropna(),Data.height_std.dropna())/np.sqrt(weighted_mean(Data.height.dropna(),Data.height_std.dropna())**2+weighted_mean(Data.length.dropna(),Data.length_std.dropna())**2))*180/np.pi"
   ]
  },
  {
   "cell_type": "code",
   "execution_count": 10,
   "metadata": {},
   "outputs": [],
   "source": [
    "Laser_1=weighted_mean(np.array(Data.laser_1.dropna()),np.array(Data.laser_1_std.dropna()))*10**(-2)\n",
    "Laser_2=weighted_mean(np.array(Data.laser_2.dropna()),np.array(Data.laser_2_std.dropna()))*10**(-2)\n",
    "Laser_3=weighted_mean(np.array(Data.laser_3.dropna()),np.array(Data.laser_3_std.dropna()))*10**(-2)\n",
    "Laser_4=weighted_mean(np.array(Data.laser_4.dropna()),np.array(Data.laser_4_std.dropna())) *10**(-2)\n",
    "Laser_1_std=uncertainty_weighted(np.array(Data.laser_1_std.dropna()))*10**(-2)\n",
    "Laser_2_std=uncertainty_weighted(np.array(Data.laser_2_std.dropna()))*10**(-2)\n",
    "Laser_3_std=uncertainty_weighted(np.array(Data.laser_3_std.dropna()))*10**(-2)\n",
    "Laser_4_std=uncertainty_weighted(np.array(Data.laser_4_std.dropna()))*10**(-2)\n",
    "Length_slope=np.array([0.0001,Laser_1,Laser_2,Laser_3,Laser_4])\n",
    "Length_slope_std=np.array([0.1,Laser_1_std,Laser_2_std,Laser_3_std,Laser_4_std])\n"
   ]
  },
  {
   "cell_type": "code",
   "execution_count": 11,
   "metadata": {},
   "outputs": [],
   "source": [
    "Number_of_datasets=5\n",
    "skiprows_pd=15\n",
    "location=\"../data/slope/\"\n"
   ]
  },
  {
   "cell_type": "code",
   "execution_count": 12,
   "metadata": {},
   "outputs": [],
   "source": [
    "Length_slope-np.roll(Length_slope,1)\n",
    "Length_slope=np.array([0,0.14925,0.14925+0.1615,0.1765+0.1615+0.14925,0.17865+0.1765+0.1615+0.14925])"
   ]
  },
  {
   "cell_type": "code",
   "execution_count": 13,
   "metadata": {},
   "outputs": [],
   "source": [
    "\n",
    "\n",
    "Time_big,Voltages_big=data_import(5,\"exported_data_big_ball_acc_\",15,location)\n",
    "Time_small,Voltages_small=data_import(5,\"exported_data_acc_small_ball_\",15,location)\n",
    "Time_big_180,Voltages_big_180=data_import(5,\"exported_data_acc_small_180_deg_\",15,location)\n",
    "Time_small_180,Voltages_small_180=data_import(5,\"exported_data_acc_big_ball_180_deg_\",15,location)\n"
   ]
  },
  {
   "cell_type": "code",
   "execution_count": 14,
   "metadata": {},
   "outputs": [],
   "source": [
    "Delta_T_big,Delta_T_big_std=mean_func(Time_big,Voltages_big)\n",
    "Delta_T_small,Delta_T_small_std=mean_func(Time_small,Voltages_small)\n",
    "Delta_T_big_180,Delta_T_big_180_std=mean_func(Time_big_180,Voltages_big_180)\n",
    "Delta_T_small_180,Delta_T_small_180_std=mean_func(Time_small_180,Voltages_small_180)"
   ]
  },
  {
   "cell_type": "code",
   "execution_count": 15,
   "metadata": {},
   "outputs": [],
   "source": [
    "chi2_object_big = Chi2Regression(fit_function_Lin, Delta_T_big,Length_slope, Length_slope_std) \n",
    "minuitLin_big= Minuit(chi2_object_big, pedantic=False, intersection=1, slope=1, print_level=0) \n",
    "minuitLin_big.migrad();"
   ]
  },
  {
   "cell_type": "code",
   "execution_count": 16,
   "metadata": {},
   "outputs": [],
   "source": [
    "chi2_object_small = Chi2Regression(fit_function_Lin,Delta_T_small,Length_slope, Length_slope_std) \n",
    "minuitLin_small= Minuit(chi2_object_small, pedantic=False, intersection=1, slope=1, print_level=0) \n",
    "minuitLin_small.migrad();"
   ]
  },
  {
   "cell_type": "code",
   "execution_count": 17,
   "metadata": {},
   "outputs": [],
   "source": [
    "chi2_object_big_180 = Chi2Regression(fit_function_Lin, Delta_T_big_180,Length_slope, Length_slope_std) \n",
    "minuitLin_big_180= Minuit(chi2_object_big_180, pedantic=False, intersection=1, slope=1, print_level=0) \n",
    "minuitLin_big_180.migrad();"
   ]
  },
  {
   "cell_type": "code",
   "execution_count": 18,
   "metadata": {},
   "outputs": [],
   "source": [
    "chi2_object_small_180 = Chi2Regression(fit_function_Lin,Delta_T_small_180,Length_slope, Length_slope_std) \n",
    "minuitLin_small_180= Minuit(chi2_object_small_180, pedantic=False, intersection=1, slope=1, print_level=0) \n",
    "minuitLin_small_180.migrad();"
   ]
  },
  {
   "cell_type": "code",
   "execution_count": 19,
   "metadata": {},
   "outputs": [],
   "source": [
    "x=np.linspace(0,0.64,100)"
   ]
  },
  {
   "cell_type": "code",
   "execution_count": null,
   "metadata": {},
   "outputs": [],
   "source": []
  },
  {
   "cell_type": "code",
   "execution_count": 20,
   "metadata": {},
   "outputs": [
    {
     "name": "stdout",
     "output_type": "stream",
     "text": [
      "0.0\n"
     ]
    },
    {
     "data": {
      "text/plain": [
       "[<matplotlib.lines.Line2D at 0x7f4a137e9940>]"
      ]
     },
     "execution_count": 20,
     "metadata": {},
     "output_type": "execute_result"
    },
    {
     "data": {
      "image/png": "[encoded data removed]",
      "text/plain": [
       "<Figure size 432x288 with 1 Axes>"
      ]
     },
     "metadata": {
      "needs_background": "light"
     },
     "output_type": "display_data"
    }
   ],
   "source": [
    "print(Delta_T_big[0])\n",
    "plt.plot(Delta_T_big,Length_slope,'.')\n",
    "plt.plot(Delta_T_big_180,Length_slope,'.')\n",
    "plt.plot(Delta_T_small,Length_slope,'.')\n",
    "plt.plot(Delta_T_small,Length_slope,'.')\n",
    "plt.plot(x,fit_function_Lin(x,minuitLin_big.args[0],minuitLin_big.args[1]))\n",
    "plt.plot(x,fit_function_Lin(x,minuitLin_small.args[0],minuitLin_small.args[1]))\n",
    "plt.plot(x,fit_function_Lin(x,minuitLin_big_180.args[0],minuitLin_big_180.args[1]))\n",
    "plt.plot(x,fit_function_Lin(x,minuitLin_small_180.args[0],minuitLin_small_180.args[1]))"
   ]
  },
  {
   "cell_type": "code",
   "execution_count": 21,
   "metadata": {},
   "outputs": [],
   "source": [
    "g,a,DB,DR,T1,T2= symbols(\"g,a,D_{ball},D_{rail},theta,theta_Delta\")\n",
    "dDB,dDr,dT,dTd,da,dg= symbols(\"sigma_DB, sigma_Dr, sigma_theta, sigma_Delta ,sigma_a,sigma_g\")"
   ]
  },
  {
   "cell_type": "code",
   "execution_count": 22,
   "metadata": {},
   "outputs": [
    {
     "data": {
      "text/latex": [
       "$$g = \\frac{a \\left(\\frac{0.4 D_{ball}^{2}}{D_{ball}^{2} - D_{rail}^{2}} + 1\\right)}{\\theta + \\theta_{\\Delta}}$$"
      ],
      "text/plain": [
       "<IPython.core.display.Latex object>"
      ]
     },
     "metadata": {},
     "output_type": "display_data"
    },
    {
     "data": {
      "text/latex": [
       "$$\\sigma_{g} = \\sqrt{\\frac{0.64 a^{2} \\sigma_{DB}^{2} \\left(- \\frac{D_{ball}^{3}}{\\left(D_{ball}^{2} - D_{rail}^{2}\\right)^{2}} + \\frac{D_{ball}}{D_{ball}^{2} - D_{rail}^{2}}\\right)^{2}}{\\left(\\theta + \\theta_{\\Delta}\\right)^{2}} + \\frac{a^{2} \\sigma_{\\Delta}^{2} \\left(\\frac{0.4 D_{ball}^{2}}{D_{ball}^{2} - D_{rail}^{2}} + 1\\right)^{2}}{\\left(\\theta + \\theta_{\\Delta}\\right)^{4}} + \\frac{a^{2} \\sigma_{\\theta}^{2} \\left(\\frac{0.4 D_{ball}^{2}}{D_{ball}^{2} - D_{rail}^{2}} + 1\\right)^{2}}{\\left(\\theta + \\theta_{\\Delta}\\right)^{4}} + \\frac{\\sigma_{a}^{2} \\left(\\frac{0.4 D_{ball}^{2}}{D_{ball}^{2} - D_{rail}^{2}} + 1\\right)^{2}}{\\left(\\theta + \\theta_{\\Delta}\\right)^{2}}}$$"
      ],
      "text/plain": [
       "<IPython.core.display.Latex object>"
      ]
     },
     "metadata": {},
     "output_type": "display_data"
    }
   ],
   "source": [
    "g=a/( T1 + T2 )*((1)+(2/5)*DB**2/(DB**2-DR**2))\n",
    "dg=sqrt((da*g.diff(a))**2+(g.diff(DB)*dDB)**2+(g.diff(dDr)*dDr)**2+(g.diff(T1)*dT)**2+(g.diff(T2)*dTd)**2)\n",
    "lprint(latex(Eq(symbols('g'), g)))\n",
    "lprint(latex(Eq(symbols('sigma_g'), dg)))"
   ]
  },
  {
   "cell_type": "markdown",
   "metadata": {},
   "source": [
    "## weigthed_ball_sections"
   ]
  },
  {
   "cell_type": "code",
   "execution_count": 23,
   "metadata": {},
   "outputs": [],
   "source": [
    "big_ball=weighted_mean(np.array(Data.big_ball.dropna()),np.array(Data.big_ball_std.dropna()))*10**(-3)\n",
    "small_ball=weighted_mean(np.array(Data.small_ball.dropna()),np.array(Data.small_all_std.dropna()))*10**(-3)\n",
    "big_ball_std=uncertainty_weighted(np.array(Data.big_ball_std.dropna()))*10**(-3)\n",
    "small_ball_std=uncertainty_weighted(np.array(Data.small_all_std.dropna()))*10**(-3)"
   ]
  },
  {
   "cell_type": "markdown",
   "metadata": {},
   "source": [
    "## weighted_Angle"
   ]
  },
  {
   "cell_type": "code",
   "execution_count": 24,
   "metadata": {},
   "outputs": [],
   "source": [
    "angle=weighted_mean(np.array(Data.angle .dropna()),np.array(Data.angle_std.dropna()))\n",
    "angle_180 =weighted_mean(np.array(Data.angle_180.dropna()),np.array(Data.angle_180_std.dropna()))\n",
    "angle_std=uncertainty_weighted(np.array(Data.angle_std.dropna()))\n",
    "angle_180_std=uncertainty_weighted(np.array(Data.angle_180_std.dropna()))"
   ]
  },
  {
   "cell_type": "markdown",
   "metadata": {},
   "source": [
    "## d_rail"
   ]
  },
  {
   "cell_type": "code",
   "execution_count": 25,
   "metadata": {},
   "outputs": [],
   "source": [
    "d_rail=weighted_mean(np.array(Data.d_rail.dropna()),np.array(Data.d_rail_std.dropna()))*10**(-3)\n",
    "d_rail_std=uncertainty_weighted(Data.d_rail_std)*10**(-3)"
   ]
  },
  {
   "cell_type": "code",
   "execution_count": 26,
   "metadata": {},
   "outputs": [],
   "source": [
    "deltaT=angle_180-angle\n"
   ]
  },
  {
   "cell_type": "markdown",
   "metadata": {},
   "source": [
    "## distance Ramp weighted  Lasers"
   ]
  },
  {
   "cell_type": "code",
   "execution_count": 27,
   "metadata": {},
   "outputs": [
    {
     "name": "stdout",
     "output_type": "stream",
     "text": [
      "9.80208763036037\n",
      "9.777883089953493\n",
      "9.69864602333032\n",
      "10.474764860863738\n"
     ]
    }
   ],
   "source": [
    "print(minuitLin_big.args[0]/np.sin((Tea)*np.pi/180)*(1+2/5*big_ball**2/(big_ball**2-d_rail**2))/2)\n",
    "print(minuitLin_big_180.args[0]/np.sin((Tea)*np.pi/180)*(1+2/5*big_ball**2/(big_ball**2-d_rail**2))/2)\n",
    "print(minuitLin_small.args[0]/np.sin((Tea)*np.pi/180)*(1+2/5*small_ball**2/(small_ball**2-d_rail**2))/2)\n",
    "print(minuitLin_small_180.args[0]/np.sin((Tea)*np.pi/180)*(1+2/5*small_ball**2/(small_ball**2-d_rail**2))/2)"
   ]
  },
  {
   "cell_type": "code",
   "execution_count": 28,
   "metadata": {},
   "outputs": [
    {
     "name": "stdout",
     "output_type": "stream",
     "text": [
      "-0.22999999999999954\n",
      "13.0\n"
     ]
    },
    {
     "data": {
      "text/plain": [
       "13.76394697616326"
      ]
     },
     "execution_count": 28,
     "metadata": {},
     "output_type": "execute_result"
    }
   ],
   "source": [
    "print((angle-angle_180)/2)\n",
    "print(angle)\n",
    "Tea"
   ]
  },
  {
   "cell_type": "code",
   "execution_count": 29,
   "metadata": {},
   "outputs": [],
   "source": [
    "g,a,DB,DR,T1,T2= symbols(\"g,a,D_{ball},D_{rail},theta,theta_Delta\")\n",
    "dDB,dDr,dT,da,dg= symbols(\"sigma_DB, sigma_Dr, sigma_theta,sigma_a,sigma_g\")"
   ]
  },
  {
   "cell_type": "code",
   "execution_count": 30,
   "metadata": {},
   "outputs": [
    {
     "data": {
      "text/latex": [
       "$$g = \\frac{a \\left(\\frac{0.4 D_{ball}^{2}}{D_{ball}^{2} - D_{rail}^{2}} + 1\\right)}{\\theta + \\theta_{\\Delta}}$$"
      ],
      "text/plain": [
       "<IPython.core.display.Latex object>"
      ]
     },
     "metadata": {},
     "output_type": "display_data"
    },
    {
     "data": {
      "text/latex": [
       "$$\\sigma_{g} = \\sqrt{\\frac{0.64 a^{2} \\sigma_{DB}^{2} \\left(- \\frac{D_{ball}^{3}}{\\left(D_{ball}^{2} - D_{rail}^{2}\\right)^{2}} + \\frac{D_{ball}}{D_{ball}^{2} - D_{rail}^{2}}\\right)^{2}}{\\left(\\theta + \\theta_{\\Delta}\\right)^{2}} + \\frac{a^{2} \\sigma_{\\theta}^{2} \\left(\\frac{0.4 D_{ball}^{2}}{D_{ball}^{2} - D_{rail}^{2}} + 1\\right)^{2}}{\\left(\\theta + \\theta_{\\Delta}\\right)^{4}} + \\frac{\\sigma_{a}^{2} \\left(\\frac{0.4 D_{ball}^{2}}{D_{ball}^{2} - D_{rail}^{2}} + 1\\right)^{2}}{\\left(\\theta + \\theta_{\\Delta}\\right)^{2}}}$$"
      ],
      "text/plain": [
       "<IPython.core.display.Latex object>"
      ]
     },
     "metadata": {},
     "output_type": "display_data"
    }
   ],
   "source": [
    "g=a/( T1 + T2 )*((1)+(2/5)*DB**2/(DB**2-DR**2))\n",
    "dg=sqrt((da*g.diff(a))**2+(g.diff(DB)*dDB)**2+(g.diff(dDr)*dDr)**2+(g.diff(T1)*dT)**2)\n",
    "lprint(latex(Eq(symbols('g'), g)))\n",
    "lprint(latex(Eq(symbols('sigma_g'), dg)))"
   ]
  },
  {
   "cell_type": "code",
   "execution_count": 31,
   "metadata": {},
   "outputs": [
    {
     "ename": "NameError",
     "evalue": "name 'big_weighted_slope' is not defined",
     "output_type": "error",
     "traceback": [
      "\u001b[0;31m---------------------------------------------------------------------------\u001b[0m",
      "\u001b[0;31mNameError\u001b[0m                                 Traceback (most recent call last)",
      "\u001b[0;32m<ipython-input-31-c4e65edac0b9>\u001b[0m in \u001b[0;36m<module>\u001b[0;34m\u001b[0m\n\u001b[0;32m----> 1\u001b[0;31m \u001b[0mprint\u001b[0m\u001b[0;34m(\u001b[0m\u001b[0mbig_weighted_slope\u001b[0m\u001b[0;34m,\u001b[0m\u001b[0mbig_ball\u001b[0m\u001b[0;34m,\u001b[0m\u001b[0md_rail\u001b[0m\u001b[0;34m,\u001b[0m\u001b[0mangle\u001b[0m\u001b[0;34m*\u001b[0m\u001b[0mnp\u001b[0m\u001b[0;34m.\u001b[0m\u001b[0mpi\u001b[0m\u001b[0;34m/\u001b[0m\u001b[0;36m180\u001b[0m\u001b[0;34m,\u001b[0m\u001b[0mbig_uncertainty_slope\u001b[0m\u001b[0;34m,\u001b[0m\u001b[0mbig_ball_std\u001b[0m\u001b[0;34m,\u001b[0m\u001b[0md_rail_std\u001b[0m\u001b[0;34m,\u001b[0m\u001b[0mangle_std\u001b[0m\u001b[0;34m*\u001b[0m\u001b[0mnp\u001b[0m\u001b[0;34m.\u001b[0m\u001b[0mpi\u001b[0m\u001b[0;34m/\u001b[0m\u001b[0;36m180\u001b[0m\u001b[0;34m)\u001b[0m\u001b[0;34m\u001b[0m\u001b[0;34m\u001b[0m\u001b[0m\n\u001b[0m",
      "\u001b[0;31mNameError\u001b[0m: name 'big_weighted_slope' is not defined"
     ]
    }
   ],
   "source": [
    "print(big_weighted_slope,big_ball,d_rail,angle*np.pi/180,big_uncertainty_slope,big_ball_std,d_rail_std,angle_std*np.pi/180)"
   ]
  },
  {
   "cell_type": "code",
   "execution_count": 32,
   "metadata": {},
   "outputs": [
    {
     "ename": "NameError",
     "evalue": "name 'big_weighted_slope' is not defined",
     "output_type": "error",
     "traceback": [
      "\u001b[0;31m---------------------------------------------------------------------------\u001b[0m",
      "\u001b[0;31mNameError\u001b[0m                                 Traceback (most recent call last)",
      "\u001b[0;32m<ipython-input-32-a2fe0b7da220>\u001b[0m in \u001b[0;36m<module>\u001b[0;34m\u001b[0m\n\u001b[1;32m      3\u001b[0m \u001b[0mfdg\u001b[0m \u001b[0;34m=\u001b[0m \u001b[0mlambdify\u001b[0m\u001b[0;34m(\u001b[0m\u001b[0;34m(\u001b[0m\u001b[0ma\u001b[0m\u001b[0;34m,\u001b[0m\u001b[0mDB\u001b[0m\u001b[0;34m,\u001b[0m\u001b[0mDR\u001b[0m\u001b[0;34m,\u001b[0m\u001b[0mT1\u001b[0m\u001b[0;34m,\u001b[0m\u001b[0mT2\u001b[0m\u001b[0;34m,\u001b[0m\u001b[0mda\u001b[0m\u001b[0;34m,\u001b[0m\u001b[0mdDB\u001b[0m\u001b[0;34m,\u001b[0m\u001b[0mdDr\u001b[0m\u001b[0;34m,\u001b[0m\u001b[0mdT\u001b[0m\u001b[0;34m)\u001b[0m\u001b[0;34m,\u001b[0m\u001b[0mdg\u001b[0m\u001b[0;34m)\u001b[0m\u001b[0;34m\u001b[0m\u001b[0;34m\u001b[0m\u001b[0m\n\u001b[1;32m      4\u001b[0m \u001b[0;31m# Numerically evaluate expressions and print\u001b[0m\u001b[0;34m\u001b[0m\u001b[0;34m\u001b[0m\u001b[0;34m\u001b[0m\u001b[0m\n\u001b[0;32m----> 5\u001b[0;31m \u001b[0mvg_big\u001b[0m\u001b[0;34m=\u001b[0m \u001b[0mfg\u001b[0m\u001b[0;34m(\u001b[0m\u001b[0mbig_weighted_slope\u001b[0m\u001b[0;34m,\u001b[0m\u001b[0mbig_ball\u001b[0m\u001b[0;34m,\u001b[0m\u001b[0md_rail\u001b[0m\u001b[0;34m,\u001b[0m\u001b[0mangle\u001b[0m\u001b[0;34m*\u001b[0m\u001b[0mnp\u001b[0m\u001b[0;34m.\u001b[0m\u001b[0mpi\u001b[0m\u001b[0;34m/\u001b[0m\u001b[0;36m180\u001b[0m\u001b[0;34m,\u001b[0m\u001b[0;34m(\u001b[0m\u001b[0mangle_180\u001b[0m\u001b[0;34m-\u001b[0m\u001b[0mangle\u001b[0m\u001b[0;34m)\u001b[0m\u001b[0;34m*\u001b[0m\u001b[0mnp\u001b[0m\u001b[0;34m.\u001b[0m\u001b[0mpi\u001b[0m\u001b[0;34m/\u001b[0m\u001b[0;36m180\u001b[0m\u001b[0;34m)\u001b[0m\u001b[0;34m\u001b[0m\u001b[0;34m\u001b[0m\u001b[0m\n\u001b[0m\u001b[1;32m      6\u001b[0m \u001b[0mvdg_big\u001b[0m \u001b[0;34m=\u001b[0m \u001b[0mfdg\u001b[0m\u001b[0;34m(\u001b[0m\u001b[0mbig_weighted_slope\u001b[0m\u001b[0;34m,\u001b[0m\u001b[0mbig_ball\u001b[0m\u001b[0;34m,\u001b[0m\u001b[0md_rail\u001b[0m\u001b[0;34m,\u001b[0m\u001b[0mangle\u001b[0m\u001b[0;34m*\u001b[0m\u001b[0mnp\u001b[0m\u001b[0;34m.\u001b[0m\u001b[0mpi\u001b[0m\u001b[0;34m/\u001b[0m\u001b[0;36m180\u001b[0m\u001b[0;34m,\u001b[0m\u001b[0;34m(\u001b[0m\u001b[0mangle_180\u001b[0m\u001b[0;34m-\u001b[0m\u001b[0mangle\u001b[0m\u001b[0;34m)\u001b[0m\u001b[0;34m*\u001b[0m\u001b[0mnp\u001b[0m\u001b[0;34m.\u001b[0m\u001b[0mpi\u001b[0m\u001b[0;34m/\u001b[0m\u001b[0;36m180\u001b[0m\u001b[0;34m,\u001b[0m\u001b[0mbig_uncertainty_slope\u001b[0m\u001b[0;34m,\u001b[0m\u001b[0mbig_ball_std\u001b[0m\u001b[0;34m,\u001b[0m\u001b[0md_rail_std\u001b[0m\u001b[0;34m,\u001b[0m\u001b[0mangle_std\u001b[0m\u001b[0;34m*\u001b[0m\u001b[0mnp\u001b[0m\u001b[0;34m.\u001b[0m\u001b[0mpi\u001b[0m\u001b[0;34m/\u001b[0m\u001b[0;36m180\u001b[0m\u001b[0;34m)\u001b[0m\u001b[0;34m\u001b[0m\u001b[0;34m\u001b[0m\u001b[0m\n\u001b[1;32m      7\u001b[0m \u001b[0mlprint\u001b[0m\u001b[0;34m(\u001b[0m\u001b[0;34mfr'q_0 = ({vg_big/2:} \\pm {vdg_big:})\\,\\mathrm{{m/s^2}}'\u001b[0m\u001b[0;34m)\u001b[0m\u001b[0;34m\u001b[0m\u001b[0;34m\u001b[0m\u001b[0m\n",
      "\u001b[0;31mNameError\u001b[0m: name 'big_weighted_slope' is not defined"
     ]
    }
   ],
   "source": [
    "# Turn expression into numerical functions \n",
    "fg = lambdify((a,DB,DR,T1,T2),g)\n",
    "fdg = lambdify((a,DB,DR,T1,T2,da,dDB,dDr,dT),dg)\n",
    "# Numerically evaluate expressions and print \n",
    "vg_big= fg(big_weighted_slope,big_ball,d_rail,angle*np.pi/180,(angle_180-angle)*np.pi/180)\n",
    "vdg_big = fdg(big_weighted_slope,big_ball,d_rail,angle*np.pi/180,(angle_180-angle)*np.pi/180,big_uncertainty_slope,big_ball_std,d_rail_std,angle_std*np.pi/180)\n",
    "lprint(fr'q_0 = ({vg_big/2:} \\pm {vdg_big:})\\,\\mathrm{{m/s^2}}')\n"
   ]
  },
  {
   "cell_type": "code",
   "execution_count": 33,
   "metadata": {},
   "outputs": [
    {
     "ename": "NameError",
     "evalue": "name 'small_weighted_slope' is not defined",
     "output_type": "error",
     "traceback": [
      "\u001b[0;31m---------------------------------------------------------------------------\u001b[0m",
      "\u001b[0;31mNameError\u001b[0m                                 Traceback (most recent call last)",
      "\u001b[0;32m<ipython-input-33-d1efed5f1373>\u001b[0m in \u001b[0;36m<module>\u001b[0;34m\u001b[0m\n\u001b[0;32m----> 1\u001b[0;31m \u001b[0mvg_small\u001b[0m\u001b[0;34m=\u001b[0m \u001b[0mfg\u001b[0m\u001b[0;34m(\u001b[0m\u001b[0msmall_weighted_slope\u001b[0m\u001b[0;34m,\u001b[0m\u001b[0msmall_ball\u001b[0m\u001b[0;34m,\u001b[0m\u001b[0md_rail\u001b[0m\u001b[0;34m,\u001b[0m\u001b[0;36m13.0\u001b[0m\u001b[0;34m*\u001b[0m\u001b[0mnp\u001b[0m\u001b[0;34m.\u001b[0m\u001b[0mpi\u001b[0m\u001b[0;34m/\u001b[0m\u001b[0;36m180\u001b[0m\u001b[0;34m,\u001b[0m\u001b[0;34m(\u001b[0m\u001b[0mangle_180\u001b[0m\u001b[0;34m-\u001b[0m\u001b[0mangle\u001b[0m\u001b[0;34m)\u001b[0m\u001b[0;34m*\u001b[0m\u001b[0mnp\u001b[0m\u001b[0;34m.\u001b[0m\u001b[0mpi\u001b[0m\u001b[0;34m/\u001b[0m\u001b[0;36m180\u001b[0m\u001b[0;34m)\u001b[0m\u001b[0;34m\u001b[0m\u001b[0;34m\u001b[0m\u001b[0m\n\u001b[0m\u001b[1;32m      2\u001b[0m \u001b[0mvdg_small\u001b[0m \u001b[0;34m=\u001b[0m \u001b[0mfdg\u001b[0m\u001b[0;34m(\u001b[0m\u001b[0msmall_weighted_slope\u001b[0m\u001b[0;34m,\u001b[0m\u001b[0msmall_ball\u001b[0m\u001b[0;34m,\u001b[0m\u001b[0md_rail\u001b[0m\u001b[0;34m,\u001b[0m\u001b[0mangle\u001b[0m\u001b[0;34m*\u001b[0m\u001b[0mnp\u001b[0m\u001b[0;34m.\u001b[0m\u001b[0mpi\u001b[0m\u001b[0;34m/\u001b[0m\u001b[0;36m180\u001b[0m\u001b[0;34m,\u001b[0m\u001b[0;34m(\u001b[0m\u001b[0mangle_180\u001b[0m\u001b[0;34m-\u001b[0m\u001b[0mangle\u001b[0m\u001b[0;34m)\u001b[0m\u001b[0;34m*\u001b[0m\u001b[0mnp\u001b[0m\u001b[0;34m.\u001b[0m\u001b[0mpi\u001b[0m\u001b[0;34m/\u001b[0m\u001b[0;36m180\u001b[0m\u001b[0;34m,\u001b[0m\u001b[0msmall_uncertainty_slope\u001b[0m\u001b[0;34m,\u001b[0m\u001b[0msmall_ball_std\u001b[0m\u001b[0;34m,\u001b[0m\u001b[0md_rail_std\u001b[0m\u001b[0;34m,\u001b[0m\u001b[0mangle_std\u001b[0m\u001b[0;34m*\u001b[0m\u001b[0mnp\u001b[0m\u001b[0;34m.\u001b[0m\u001b[0mpi\u001b[0m\u001b[0;34m/\u001b[0m\u001b[0;36m180\u001b[0m\u001b[0;34m)\u001b[0m\u001b[0;34m\u001b[0m\u001b[0;34m\u001b[0m\u001b[0m\n\u001b[1;32m      3\u001b[0m \u001b[0mlprint\u001b[0m\u001b[0;34m(\u001b[0m\u001b[0;34mfr'q_0 = ({vg_small/2:} \\pm {vdg_small/2:})\\,\\mathrm{{m/s^2}}'\u001b[0m\u001b[0;34m)\u001b[0m\u001b[0;34m\u001b[0m\u001b[0;34m\u001b[0m\u001b[0m\n",
      "\u001b[0;31mNameError\u001b[0m: name 'small_weighted_slope' is not defined"
     ]
    }
   ],
   "source": [
    "vg_small= fg(small_weighted_slope,small_ball,d_rail,13.0*np.pi/180,(angle_180-angle)*np.pi/180)\n",
    "vdg_small = fdg(small_weighted_slope,small_ball,d_rail,angle*np.pi/180,(angle_180-angle)*np.pi/180,small_uncertainty_slope,small_ball_std,d_rail_std,angle_std*np.pi/180)\n",
    "lprint(fr'q_0 = ({vg_small/2:} \\pm {vdg_small/2:})\\,\\mathrm{{m/s^2}}')"
   ]
  },
  {
   "cell_type": "code",
   "execution_count": 34,
   "metadata": {},
   "outputs": [
    {
     "ename": "NameError",
     "evalue": "name 'big_weighted_slope_180' is not defined",
     "output_type": "error",
     "traceback": [
      "\u001b[0;31m---------------------------------------------------------------------------\u001b[0m",
      "\u001b[0;31mNameError\u001b[0m                                 Traceback (most recent call last)",
      "\u001b[0;32m<ipython-input-34-65978f3d4bb1>\u001b[0m in \u001b[0;36m<module>\u001b[0;34m\u001b[0m\n\u001b[0;32m----> 1\u001b[0;31m \u001b[0mvg_big_180\u001b[0m\u001b[0;34m=\u001b[0m \u001b[0mfg\u001b[0m\u001b[0;34m(\u001b[0m\u001b[0mbig_weighted_slope_180\u001b[0m\u001b[0;34m,\u001b[0m\u001b[0mbig_ball\u001b[0m\u001b[0;34m,\u001b[0m\u001b[0md_rail\u001b[0m\u001b[0;34m,\u001b[0m\u001b[0mangle\u001b[0m\u001b[0;34m*\u001b[0m\u001b[0mnp\u001b[0m\u001b[0;34m.\u001b[0m\u001b[0mpi\u001b[0m\u001b[0;34m/\u001b[0m\u001b[0;36m180\u001b[0m\u001b[0;34m,\u001b[0m\u001b[0;34m(\u001b[0m\u001b[0mangle_180\u001b[0m\u001b[0;34m-\u001b[0m\u001b[0mangle\u001b[0m\u001b[0;34m)\u001b[0m\u001b[0;34m*\u001b[0m\u001b[0mnp\u001b[0m\u001b[0;34m.\u001b[0m\u001b[0mpi\u001b[0m\u001b[0;34m/\u001b[0m\u001b[0;36m180\u001b[0m\u001b[0;34m)\u001b[0m\u001b[0;34m\u001b[0m\u001b[0;34m\u001b[0m\u001b[0m\n\u001b[0m\u001b[1;32m      2\u001b[0m \u001b[0mvdg_big_180\u001b[0m \u001b[0;34m=\u001b[0m \u001b[0mfdg\u001b[0m\u001b[0;34m(\u001b[0m\u001b[0mbig_weighted_slope_180\u001b[0m\u001b[0;34m,\u001b[0m\u001b[0mbig_ball\u001b[0m\u001b[0;34m,\u001b[0m\u001b[0md_rail\u001b[0m\u001b[0;34m,\u001b[0m\u001b[0mangle\u001b[0m\u001b[0;34m*\u001b[0m\u001b[0mnp\u001b[0m\u001b[0;34m.\u001b[0m\u001b[0mpi\u001b[0m\u001b[0;34m/\u001b[0m\u001b[0;36m180\u001b[0m\u001b[0;34m,\u001b[0m\u001b[0;34m(\u001b[0m\u001b[0mangle_180\u001b[0m\u001b[0;34m-\u001b[0m\u001b[0mangle\u001b[0m\u001b[0;34m)\u001b[0m\u001b[0;34m*\u001b[0m\u001b[0mnp\u001b[0m\u001b[0;34m.\u001b[0m\u001b[0mpi\u001b[0m\u001b[0;34m/\u001b[0m\u001b[0;36m180\u001b[0m\u001b[0;34m,\u001b[0m\u001b[0mbig_uncertainty_slope_180\u001b[0m\u001b[0;34m,\u001b[0m\u001b[0mbig_ball_std\u001b[0m\u001b[0;34m,\u001b[0m\u001b[0md_rail_std\u001b[0m\u001b[0;34m,\u001b[0m\u001b[0mangle_std\u001b[0m\u001b[0;34m*\u001b[0m\u001b[0mnp\u001b[0m\u001b[0;34m.\u001b[0m\u001b[0mpi\u001b[0m\u001b[0;34m/\u001b[0m\u001b[0;36m180\u001b[0m\u001b[0;34m)\u001b[0m\u001b[0;34m\u001b[0m\u001b[0;34m\u001b[0m\u001b[0m\n\u001b[1;32m      3\u001b[0m \u001b[0mlprint\u001b[0m\u001b[0;34m(\u001b[0m\u001b[0;34mfr'q_0 = ({vg_big_180/2:} \\pm {vdg_big_180/2:})\\,\\mathrm{{m/s^2}}'\u001b[0m\u001b[0;34m)\u001b[0m\u001b[0;34m\u001b[0m\u001b[0;34m\u001b[0m\u001b[0m\n",
      "\u001b[0;31mNameError\u001b[0m: name 'big_weighted_slope_180' is not defined"
     ]
    }
   ],
   "source": [
    "vg_big_180= fg(big_weighted_slope_180,big_ball,d_rail,angle*np.pi/180,(angle_180-angle)*np.pi/180)\n",
    "vdg_big_180 = fdg(big_weighted_slope_180,big_ball,d_rail,angle*np.pi/180,(angle_180-angle)*np.pi/180,big_uncertainty_slope_180,big_ball_std,d_rail_std,angle_std*np.pi/180)\n",
    "lprint(fr'q_0 = ({vg_big_180/2:} \\pm {vdg_big_180/2:})\\,\\mathrm{{m/s^2}}')"
   ]
  },
  {
   "cell_type": "code",
   "execution_count": 35,
   "metadata": {},
   "outputs": [
    {
     "data": {
      "text/plain": [
       "[<matplotlib.lines.Line2D at 0x7f4a133af760>]"
      ]
     },
     "execution_count": 35,
     "metadata": {},
     "output_type": "execute_result"
    },
    {
     "data": {
      "image/png": "[encoded data removed]",
      "text/plain": [
       "<Figure size 432x288 with 1 Axes>"
      ]
     },
     "metadata": {
      "needs_background": "light"
     },
     "output_type": "display_data"
    }
   ],
   "source": [
    "plt.plot(Time_small[0],Voltages_small[0])\n",
    "Roll=data_sorting(Time_small[0],Voltages_small[0])\n",
    "plt.plot((np.mean(Roll[0][Roll[2][0]:Roll[2][1]])+np.mean(Roll[1][Roll[3][0]:Roll[3][1]]))/2,1,'o')\n",
    "plt.plot((np.mean(Roll[0][Roll[2][1]:Roll[2][2]])+np.mean(Roll[1][Roll[3][1]:Roll[3][2]]))/2,1,'o')"
   ]
  },
  {
   "cell_type": "code",
   "execution_count": 36,
   "metadata": {},
   "outputs": [
    {
     "name": "stdout",
     "output_type": "stream",
     "text": [
      "(array([1.6282, 1.6284, 1.6286, 1.6288, 1.629 , 1.6292, 1.6294, 1.6296,\n",
      "       1.6298, 1.63  , 1.6302, 1.6304, 1.6306, 1.6308, 1.8266, 1.8268,\n",
      "       1.827 , 1.8272, 1.8274, 1.8276, 1.8278, 1.828 , 1.8282, 1.8284,\n",
      "       1.9834, 1.9836, 1.9838, 1.984 , 1.9842, 1.9844, 2.1208, 2.121 ,\n",
      "       2.1212, 2.1214, 2.1216, 2.246 , 2.2462, 2.2464, 2.2466, 2.2468,\n",
      "       2.247 ]), array([1.6478, 1.648 , 1.6482, 1.6484, 1.6486, 1.6488, 1.649 , 1.6492,\n",
      "       1.6494, 1.6496, 1.6498, 1.65  , 1.6502, 1.8396, 1.8398, 1.84  ,\n",
      "       1.8402, 1.8404, 1.8406, 1.8408, 1.841 , 1.8412, 1.8414, 1.8416,\n",
      "       1.9932, 1.9934, 1.9936, 1.9938, 1.994 , 2.1292, 2.1294, 2.1296,\n",
      "       2.1298, 2.2534, 2.2536, 2.2538, 2.254 , 2.2542, 2.2544]), array([ 0, 14, 24, 30, 35, 40]), array([ 0, 13, 24, 29, 33, 38]))\n"
     ]
    }
   ],
   "source": [
    "print(Roll)"
   ]
  },
  {
   "cell_type": "code",
   "execution_count": 37,
   "metadata": {},
   "outputs": [
    {
     "data": {
      "text/plain": [
       "[<matplotlib.lines.Line2D at 0x7f4a1338ea90>]"
      ]
     },
     "execution_count": 37,
     "metadata": {},
     "output_type": "execute_result"
    },
    {
     "data": {
      "image/png": "[encoded data removed]",
      "text/plain": [
       "<Figure size 432x288 with 1 Axes>"
      ]
     },
     "metadata": {
      "needs_background": "light"
     },
     "output_type": "display_data"
    }
   ],
   "source": [
    "plt.plot(Roll[0][0:13])\n",
    "plt.plot(Roll[1][0:13])\n",
    "plt.plot((np.mean(Roll[0][0:14])+np.mean(Roll[1][0:13]))/2,'o')"
   ]
  },
  {
   "cell_type": "code",
   "execution_count": 38,
   "metadata": {},
   "outputs": [
    {
     "ename": "NameError",
     "evalue": "name 'Time' is not defined",
     "output_type": "error",
     "traceback": [
      "\u001b[0;31m---------------------------------------------------------------------------\u001b[0m",
      "\u001b[0;31mNameError\u001b[0m                                 Traceback (most recent call last)",
      "\u001b[0;32m<ipython-input-38-314734665a4b>\u001b[0m in \u001b[0;36m<module>\u001b[0;34m\u001b[0m\n\u001b[0;32m----> 1\u001b[0;31m \u001b[0mchi2_object\u001b[0m \u001b[0;34m=\u001b[0m \u001b[0mChi2Regression\u001b[0m\u001b[0;34m(\u001b[0m\u001b[0mfit_function_Lin\u001b[0m\u001b[0;34m,\u001b[0m \u001b[0mTime\u001b[0m\u001b[0;34m,\u001b[0m\u001b[0mLength_slope\u001b[0m\u001b[0;34m,\u001b[0m \u001b[0mLength_slope_std\u001b[0m\u001b[0;34m)\u001b[0m\u001b[0;34m\u001b[0m\u001b[0;34m\u001b[0m\u001b[0m\n\u001b[0m\u001b[1;32m      2\u001b[0m \u001b[0mminuitLin\u001b[0m\u001b[0;34m=\u001b[0m \u001b[0mMinuit\u001b[0m\u001b[0;34m(\u001b[0m\u001b[0mchi2_object\u001b[0m\u001b[0;34m,\u001b[0m \u001b[0mpedantic\u001b[0m\u001b[0;34m=\u001b[0m\u001b[0;32mFalse\u001b[0m\u001b[0;34m,\u001b[0m \u001b[0mintersection\u001b[0m\u001b[0;34m=\u001b[0m\u001b[0;36m1\u001b[0m\u001b[0;34m,\u001b[0m \u001b[0mslope\u001b[0m\u001b[0;34m=\u001b[0m\u001b[0;36m1\u001b[0m\u001b[0;34m,\u001b[0m \u001b[0mprint_level\u001b[0m\u001b[0;34m=\u001b[0m\u001b[0;36m0\u001b[0m\u001b[0;34m)\u001b[0m\u001b[0;34m\u001b[0m\u001b[0;34m\u001b[0m\u001b[0m\n\u001b[1;32m      3\u001b[0m \u001b[0mminuitLin\u001b[0m\u001b[0;34m.\u001b[0m\u001b[0mmigrad\u001b[0m\u001b[0;34m(\u001b[0m\u001b[0;34m)\u001b[0m\u001b[0;34m;\u001b[0m\u001b[0;34m\u001b[0m\u001b[0;34m\u001b[0m\u001b[0m\n",
      "\u001b[0;31mNameError\u001b[0m: name 'Time' is not defined"
     ]
    }
   ],
   "source": [
    "chi2_object = Chi2Regression(fit_function_Lin, Time,Length_slope, Length_slope_std) \n",
    "minuitLin= Minuit(chi2_object, pedantic=False, intersection=1, slope=1, print_level=0) \n",
    "minuitLin.migrad();"
   ]
  },
  {
   "cell_type": "code",
   "execution_count": 39,
   "metadata": {},
   "outputs": [],
   "source": [
    "x=np.linspace(0,0.6,100)"
   ]
  },
  {
   "cell_type": "code",
   "execution_count": 40,
   "metadata": {},
   "outputs": [
    {
     "ename": "NameError",
     "evalue": "name 'Time' is not defined",
     "output_type": "error",
     "traceback": [
      "\u001b[0;31m---------------------------------------------------------------------------\u001b[0m",
      "\u001b[0;31mNameError\u001b[0m                                 Traceback (most recent call last)",
      "\u001b[0;32m<ipython-input-40-d31d7b9c75d2>\u001b[0m in \u001b[0;36m<module>\u001b[0;34m\u001b[0m\n\u001b[0;32m----> 1\u001b[0;31m \u001b[0mplt\u001b[0m\u001b[0;34m.\u001b[0m\u001b[0mplot\u001b[0m\u001b[0;34m(\u001b[0m\u001b[0mTime\u001b[0m\u001b[0;34m,\u001b[0m\u001b[0mLength_slope\u001b[0m\u001b[0;34m,\u001b[0m\u001b[0;34m'.'\u001b[0m\u001b[0;34m)\u001b[0m\u001b[0;34m\u001b[0m\u001b[0;34m\u001b[0m\u001b[0m\n\u001b[0m\u001b[1;32m      2\u001b[0m \u001b[0mplt\u001b[0m\u001b[0;34m.\u001b[0m\u001b[0mplot\u001b[0m\u001b[0;34m(\u001b[0m\u001b[0mx\u001b[0m\u001b[0;34m,\u001b[0m\u001b[0mfit_function_Lin\u001b[0m\u001b[0;34m(\u001b[0m\u001b[0mx\u001b[0m\u001b[0;34m,\u001b[0m\u001b[0mminuitLin\u001b[0m\u001b[0;34m.\u001b[0m\u001b[0margs\u001b[0m\u001b[0;34m[\u001b[0m\u001b[0;36m0\u001b[0m\u001b[0;34m]\u001b[0m\u001b[0;34m,\u001b[0m\u001b[0mminuitLin\u001b[0m\u001b[0;34m.\u001b[0m\u001b[0margs\u001b[0m\u001b[0;34m[\u001b[0m\u001b[0;36m1\u001b[0m\u001b[0;34m]\u001b[0m\u001b[0;34m)\u001b[0m\u001b[0;34m)\u001b[0m\u001b[0;34m\u001b[0m\u001b[0;34m\u001b[0m\u001b[0m\n",
      "\u001b[0;31mNameError\u001b[0m: name 'Time' is not defined"
     ]
    }
   ],
   "source": [
    "plt.plot(Time,Length_slope,'.')\n",
    "plt.plot(x,fit_function_Lin(x,minuitLin.args[0],minuitLin.args[1]))"
   ]
  },
  {
   "cell_type": "code",
   "execution_count": 41,
   "metadata": {},
   "outputs": [
    {
     "ename": "NameError",
     "evalue": "name 'minuitLin' is not defined",
     "output_type": "error",
     "traceback": [
      "\u001b[0;31m---------------------------------------------------------------------------\u001b[0m",
      "\u001b[0;31mNameError\u001b[0m                                 Traceback (most recent call last)",
      "\u001b[0;32m<ipython-input-41-38bb27899b03>\u001b[0m in \u001b[0;36m<module>\u001b[0;34m\u001b[0m\n\u001b[0;32m----> 1\u001b[0;31m \u001b[0mprint\u001b[0m\u001b[0;34m(\u001b[0m\u001b[0mminuitLin\u001b[0m\u001b[0;34m.\u001b[0m\u001b[0margs\u001b[0m\u001b[0;34m[\u001b[0m\u001b[0;36m0\u001b[0m\u001b[0;34m]\u001b[0m\u001b[0;34m/\u001b[0m\u001b[0mnp\u001b[0m\u001b[0;34m.\u001b[0m\u001b[0msin\u001b[0m\u001b[0;34m(\u001b[0m\u001b[0;34m(\u001b[0m\u001b[0mTea\u001b[0m\u001b[0;34m)\u001b[0m\u001b[0;34m*\u001b[0m\u001b[0mnp\u001b[0m\u001b[0;34m.\u001b[0m\u001b[0mpi\u001b[0m\u001b[0;34m/\u001b[0m\u001b[0;36m180\u001b[0m\u001b[0;34m)\u001b[0m\u001b[0;34m*\u001b[0m\u001b[0;34m(\u001b[0m\u001b[0;36m1\u001b[0m\u001b[0;34m+\u001b[0m\u001b[0;36m2\u001b[0m\u001b[0;34m/\u001b[0m\u001b[0;36m5\u001b[0m\u001b[0;34m*\u001b[0m\u001b[0mbig_ball\u001b[0m\u001b[0;34m**\u001b[0m\u001b[0;36m2\u001b[0m\u001b[0;34m/\u001b[0m\u001b[0;34m(\u001b[0m\u001b[0mbig_ball\u001b[0m\u001b[0;34m**\u001b[0m\u001b[0;36m2\u001b[0m\u001b[0;34m-\u001b[0m\u001b[0md_rail\u001b[0m\u001b[0;34m**\u001b[0m\u001b[0;36m2\u001b[0m\u001b[0;34m)\u001b[0m\u001b[0;34m)\u001b[0m\u001b[0;34m/\u001b[0m\u001b[0;36m2\u001b[0m\u001b[0;34m)\u001b[0m\u001b[0;34m\u001b[0m\u001b[0;34m\u001b[0m\u001b[0m\n\u001b[0m",
      "\u001b[0;31mNameError\u001b[0m: name 'minuitLin' is not defined"
     ]
    }
   ],
   "source": [
    "print(minuitLin.args[0]/np.sin((Tea)*np.pi/180)*(1+2/5*big_ball**2/(big_ball**2-d_rail**2))/2)"
   ]
  },
  {
   "cell_type": "code",
   "execution_count": 42,
   "metadata": {},
   "outputs": [
    {
     "ename": "NameError",
     "evalue": "name 'Time1' is not defined",
     "output_type": "error",
     "traceback": [
      "\u001b[0;31m---------------------------------------------------------------------------\u001b[0m",
      "\u001b[0;31mNameError\u001b[0m                                 Traceback (most recent call last)",
      "\u001b[0;32m<ipython-input-42-a85fb353e2a5>\u001b[0m in \u001b[0;36m<module>\u001b[0;34m\u001b[0m\n\u001b[0;32m----> 1\u001b[0;31m \u001b[0mTime\u001b[0m\u001b[0;34m=\u001b[0m\u001b[0mnp\u001b[0m\u001b[0;34m.\u001b[0m\u001b[0marray\u001b[0m\u001b[0;34m(\u001b[0m\u001b[0;34m[\u001b[0m\u001b[0mweighted_mean\u001b[0m\u001b[0;34m(\u001b[0m\u001b[0mTime1\u001b[0m\u001b[0;34m,\u001b[0m\u001b[0mTime1_std\u001b[0m\u001b[0;34m)\u001b[0m\u001b[0;34m,\u001b[0m\u001b[0mweighted_mean\u001b[0m\u001b[0;34m(\u001b[0m\u001b[0mTime2\u001b[0m\u001b[0;34m,\u001b[0m\u001b[0mTime2_std\u001b[0m\u001b[0;34m)\u001b[0m\u001b[0;34m,\u001b[0m\u001b[0mweighted_mean\u001b[0m\u001b[0;34m(\u001b[0m\u001b[0mTime3\u001b[0m\u001b[0;34m,\u001b[0m\u001b[0mTime3_std\u001b[0m\u001b[0;34m)\u001b[0m\u001b[0;34m,\u001b[0m\u001b[0mweighted_mean\u001b[0m\u001b[0;34m(\u001b[0m\u001b[0mTime4\u001b[0m\u001b[0;34m,\u001b[0m\u001b[0mTime4_std\u001b[0m\u001b[0;34m)\u001b[0m\u001b[0;34m,\u001b[0m\u001b[0mweighted_mean\u001b[0m\u001b[0;34m(\u001b[0m\u001b[0mTime5\u001b[0m\u001b[0;34m,\u001b[0m\u001b[0mTime5_std\u001b[0m\u001b[0;34m)\u001b[0m\u001b[0;34m]\u001b[0m\u001b[0;34m)\u001b[0m\u001b[0;34m\u001b[0m\u001b[0;34m\u001b[0m\u001b[0m\n\u001b[0m",
      "\u001b[0;31mNameError\u001b[0m: name 'Time1' is not defined"
     ]
    }
   ],
   "source": [
    "Time=np.array([weighted_mean(Time1,Time1_std),weighted_mean(Time2,Time2_std),weighted_mean(Time3,Time3_std),weighted_mean(Time4,Time4_std),weighted_mean(Time5,Time5_std)])"
   ]
  },
  {
   "cell_type": "code",
   "execution_count": null,
   "metadata": {},
   "outputs": [],
   "source": []
  }
 ],
 "metadata": {
  "kernelspec": {
   "display_name": "Python 3",
   "language": "python",
   "name": "python3"
  },
  "language_info": {
   "codemirror_mode": {
    "name": "ipython",
    "version": 3
   },
   "file_extension": ".py",
   "mimetype": "text/x-python",
   "name": "python",
   "nbconvert_exporter": "python",
   "pygments_lexer": "ipython3",
   "version": "3.8.3"
  }
 },
 "nbformat": 4,
 "nbformat_minor": 4
}
