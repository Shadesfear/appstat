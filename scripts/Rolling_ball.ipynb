{
 "cells": [
  {
   "cell_type": "code",
   "execution_count": 1,
   "metadata": {},
   "outputs": [],
   "source": [
    "import numpy as np\n",
    "import matplotlib.pyplot as plt\n",
    "from IPython.core.display import Latex\n",
    "from sympy import * \n",
    "from iminuit import Minuit\n",
    "import seaborn as sns\n",
    "import pandas as pd\n",
    "import scipy as sp\n",
    "import sys                                             # Modules to see files and folders in directories\n",
    "sys.path.append('External_Functions')\n",
    "from ExternalFunctions import Chi2Regression,nice_string_output, add_text_to_ax\n",
    "from scipy.stats import binom, poisson, norm\n",
    "from Rolling_ball_functions import data_sorting,data_import,mean_func\n",
    "from Universal_functions import weighted_mean,uncertainty_weighted"
   ]
  },
  {
   "cell_type": "code",
   "execution_count": 2,
   "metadata": {},
   "outputs": [],
   "source": [
    "def lprint(*args,**kwargs):\n",
    "    \"\"\"Pretty print arguments as LaTeX using IPython display system \n",
    "    from IPython.core.display import Latex\n",
    "    from sympy import * \n",
    "    Parameters\n",
    "    ----------\n",
    "    args : tuple \n",
    "        What to print (in LaTeX math mode)\n",
    "    kwargs : dict \n",
    "        optional keywords to pass to `display` \n",
    "    \"\"\"\n",
    "    return display(Latex('$$'+' '.join(args)+'$$'),**kwargs)"
   ]
  },
  {
   "cell_type": "code",
   "execution_count": 5,
   "metadata": {},
   "outputs": [],
   "source": [
    "Data=pd.read_csv(\"../data/data_setup.csv\")"
   ]
  },
  {
   "cell_type": "code",
   "execution_count": 6,
   "metadata": {},
   "outputs": [],
   "source": [
    "Laser_1=weighted_mean(np.array(Data.laser_1.dropna()),np.array(Data.laser_1_std.dropna()))*10**(-2)\n",
    "Laser_2=weighted_mean(np.array(Data.laser_2.dropna()),np.array(Data.laser_2_std.dropna()))*10**(-2)\n",
    "Laser_3=weighted_mean(np.array(Data.laser_3.dropna()),np.array(Data.laser_3_std.dropna()))*10**(-2)\n",
    "Laser_4=weighted_mean(np.array(Data.laser_4.dropna()),np.array(Data.laser_4_std.dropna())) *10**(-2)\n",
    "Laser_1_std=uncertainty_weighted(np.array(Data.laser_1_std.dropna()))*10**(-2)\n",
    "Laser_2_std=uncertainty_weighted(np.array(Data.laser_2_std.dropna()))*10**(-2)\n",
    "Laser_3_std=uncertainty_weighted(np.array(Data.laser_3_std.dropna()))*10**(-2)\n",
    "Laser_4_std=uncertainty_weighted(np.array(Data.laser_4_std.dropna()))*10**(-2)\n",
    "Length_slope=np.array([Laser_1,Laser_2,Laser_3,Laser_4])\n",
    "Length_slope_std=np.array([Laser_1_std,Laser_2_std,Laser_3_std,Laser_4_std])"
   ]
  },
  {
   "cell_type": "code",
   "execution_count": 7,
   "metadata": {},
   "outputs": [],
   "source": [
    "Number_of_datasets=5\n",
    "skiprows_pd=15\n",
    "location=\"../data/slope/\""
   ]
  },
  {
   "cell_type": "code",
   "execution_count": 8,
   "metadata": {},
   "outputs": [],
   "source": [
    "Time_big,Voltages_big=data_import(5,\"exported_data_big_ball_acc_\",15,location)\n",
    "Time_small,Voltages_small=data_import(5,\"exported_data_acc_small_ball_\",15,location)\n",
    "Time_big_180,Voltages_big_180=data_import(5,\"exported_data_acc_small_180_deg_\",15,location)\n",
    "Time_small_180,Voltages_small_180=data_import(5,\"exported_data_acc_big_ball_180_deg_\",15,location)"
   ]
  },
  {
   "cell_type": "code",
   "execution_count": 9,
   "metadata": {},
   "outputs": [],
   "source": [
    "Delta_T_big,Delta_T_big_std=mean_func(Time_big,Voltages_big)\n",
    "Delta_T_small,Delta_T_small_std=mean_func(Time_small,Voltages_small)\n",
    "Delta_T_big_180,Delta_T_big_180_std=mean_func(Time_big_180,Voltages_big_180)\n",
    "Delta_T_small_180,Delta_T_small_180_std=mean_func(Time_small_180,Voltages_small_180)"
   ]
  },
  {
   "cell_type": "code",
   "execution_count": 10,
   "metadata": {},
   "outputs": [],
   "source": [
    "def fit_function_Lin(x, slope, intersection):\n",
    "    return intersection+ 1/2*slope*x**2 \n",
    "def fit_multiple(func,x,y,y_std):\n",
    "    fit_slope=[]\n",
    "    slope_uncertainty=[]\n",
    "    fit_intersection=[]\n",
    "    intersection_uncertainty=[]\n",
    "    for i in range(len(y)):\n",
    "        chi2_object=Chi2Regression(func,x[i],y, y_std)\n",
    "        minuitLin = Minuit(chi2_object, pedantic=False, intersection=0, slope=1, print_level=0) \n",
    "        minuitLin.migrad();\n",
    "        fit_slope.append(minuitLin.args[0])\n",
    "        slope_uncertainty.append(minuitLin.errors[\"slope\"])\n",
    "        fit_intersection.append(minuitLin.args[1])\n",
    "        intersection_uncertainty.append(minuitLin.errors[\"intersection\"])\n",
    "    return np.array(fit_slope),np.array(fit_intersection),np.array(slope_uncertainty),np.array(intersection_uncertainty)"
   ]
  },
  {
   "cell_type": "code",
   "execution_count": 11,
   "metadata": {},
   "outputs": [],
   "source": [
    "slope_big,slope_big_uncertainty,intersection_big,intersection_big_uncertainty=fit_multiple(fit_function_Lin,Delta_T_big,Length_slope,Length_slope_std)\n",
    "big_weighted_slope,big_uncertainty_slope=weighted_mean(slope_big,slope_big_uncertainty),uncertainty_weighted(slope_big_uncertainty)\n",
    "big_weighted_intersection,big_uncertainty_intersection=weighted_mean(intersection_big,intersection_big_uncertainty),uncertainty_weighted(intersection_big_uncertainty)"
   ]
  },
  {
   "cell_type": "code",
   "execution_count": 12,
   "metadata": {},
   "outputs": [],
   "source": [
    "slope_,slope_big_uncertainty,intersection_big,intersection_big_uncertainty=fit_multiple(fit_function_Lin,Delta_T_big,Length_slope,Length_slope_std)\n",
    "big_weighted_slope,big_uncertainty_slope=weighted_mean(slope_big,slope_big_uncertainty),uncertainty_weighted(slope_big_uncertainty)\n",
    "big_weighted_intersection,big_uncertainty_intersection=weighted_mean(intersection_big,intersection_big_uncertainty),uncertainty_weighted(intersection_big_uncertainty)"
   ]
  },
  {
   "cell_type": "code",
   "execution_count": 13,
   "metadata": {},
   "outputs": [],
   "source": [
    "x=np.linspace(0,max(Length_slope),100)"
   ]
  },
  {
   "cell_type": "code",
   "execution_count": 18,
   "metadata": {},
   "outputs": [
    {
     "name": "stdout",
     "output_type": "stream",
     "text": [
      "[0.      0.22645 0.4271  0.6107 ]\n"
     ]
    },
    {
     "data": {
      "text/plain": [
       "[<matplotlib.lines.Line2D at 0x7f76d554ac10>]"
      ]
     },
     "execution_count": 18,
     "metadata": {},
     "output_type": "execute_result"
    },
    {
     "data": {
      "image/png": "[encoded data removed]",
      "text/plain": [
       "<Figure size 432x288 with 1 Axes>"
      ]
     },
     "metadata": {
      "needs_background": "light"
     },
     "output_type": "display_data"
    }
   ],
   "source": [
    "print(Delta_T_big[0])\n",
    "plt.plot(Delta_T_big[0],Length_slope,'.')\n",
    "plt.plot(Delta_T_big[1],Length_slope,'.')\n",
    "plt.plot(Delta_T_big[2],Length_slope,'.')\n",
    "plt.plot(Delta_T_big[3],Length_slope,'.')\n",
    "plt.plot(Delta_T_big[4],Length_slope,'.')\n",
    "plt.plot(x,fit_function_Lin(x,big_weighted_slope,big_weighted_intersection)+0.19)"
   ]
  },
  {
   "cell_type": "code",
   "execution_count": 20,
   "metadata": {},
   "outputs": [],
   "source": [
    "g,a,DB,DR,T1,T2= symbols(\"g,a,D_{ball},D_{rail},theta,theta_Delta\")\n",
    "dDB,dDr,dT,dTd,da,dg= symbols(\"sigma_DB, sigma_Dr, sigma_theta, sigma_Delta ,sigma_a,sigma_g\")"
   ]
  },
  {
   "cell_type": "code",
   "execution_count": 25,
   "metadata": {},
   "outputs": [
    {
     "data": {
      "text/latex": [
       "$$g = \\frac{a \\left(\\frac{0.4 D_{ball}^{2}}{D_{ball}^{2} - D_{rail}^{2}} + 1\\right)}{\\theta + \\theta_{\\Delta}}$$"
      ],
      "text/plain": [
       "<IPython.core.display.Latex object>"
      ]
     },
     "metadata": {},
     "output_type": "display_data"
    },
    {
     "data": {
      "text/latex": [
       "$$\\sigma_{g} = \\sqrt{\\frac{0.64 a^{2} \\sigma_{DB}^{2} \\left(- \\frac{D_{ball}^{3}}{\\left(D_{ball}^{2} - D_{rail}^{2}\\right)^{2}} + \\frac{D_{ball}}{D_{ball}^{2} - D_{rail}^{2}}\\right)^{2}}{\\left(\\theta + \\theta_{\\Delta}\\right)^{2}} + \\frac{a^{2} \\sigma_{\\Delta}^{2} \\left(\\frac{0.4 D_{ball}^{2}}{D_{ball}^{2} - D_{rail}^{2}} + 1\\right)^{2}}{\\left(\\theta + \\theta_{\\Delta}\\right)^{4}} + \\frac{a^{2} \\sigma_{\\theta}^{2} \\left(\\frac{0.4 D_{ball}^{2}}{D_{ball}^{2} - D_{rail}^{2}} + 1\\right)^{2}}{\\left(\\theta + \\theta_{\\Delta}\\right)^{4}} + \\frac{\\sigma_{a}^{2} \\left(\\frac{0.4 D_{ball}^{2}}{D_{ball}^{2} - D_{rail}^{2}} + 1\\right)^{2}}{\\left(\\theta + \\theta_{\\Delta}\\right)^{2}}}$$"
      ],
      "text/plain": [
       "<IPython.core.display.Latex object>"
      ]
     },
     "metadata": {},
     "output_type": "display_data"
    }
   ],
   "source": [
    "g=a/( T1 + T2 )*((1)+(2/5)*DB**2/(DB**2-DR**2))\n",
    "dg=sqrt((da*g.diff(a))**2+(g.diff(DB)*dDB)**2+(g.diff(dDr)*dDr)**2+(g.diff(T1)*dT)**2+(g.diff(T2)*dTd)**2)\n",
    "lprint(latex(Eq(symbols('g'), g)))\n",
    "lprint(latex(Eq(symbols('sigma_g'), dg)))"
   ]
  },
  {
   "cell_type": "markdown",
   "metadata": {},
   "source": [
    "## weigthed_ball_sections"
   ]
  },
  {
   "cell_type": "code",
   "execution_count": 26,
   "metadata": {},
   "outputs": [],
   "source": [
    "big_ball=weighted_mean(np.array(Data.big_ball.dropna()),np.array(Data.big_ball_std.dropna()))*10**(-3)\n",
    "small_ball=weighted_mean(np.array(Data.small_ball.dropna()),np.array(Data.small_all_std.dropna()))*10**(-3)\n",
    "big_ball_std=uncertainty_weighted(np.array(Data.big_ball_std.dropna()))*10**(-3)\n",
    "small_ball_std=uncertainty_weighted(np.array(Data.small_all_std.dropna()))*10**(-3)"
   ]
  },
  {
   "cell_type": "markdown",
   "metadata": {},
   "source": [
    "## weighted_Angle"
   ]
  },
  {
   "cell_type": "code",
   "execution_count": 27,
   "metadata": {},
   "outputs": [],
   "source": [
    "angle=weighted_mean(np.array(Data.angle .dropna()),np.array(Data.angle_std.dropna()))\n",
    "angle_180 =weighted_mean(np.array(Data.angle_180.dropna()),np.array(Data.angle_180_std.dropna()))\n",
    "angle_std=uncertainty_weighted(np.array(Data.angle_std.dropna()))\n",
    "angle_180_std=uncertainty_weighted(np.array(Data.angle_180_std.dropna()))"
   ]
  },
  {
   "cell_type": "markdown",
   "metadata": {},
   "source": [
    "## d_rail"
   ]
  },
  {
   "cell_type": "code",
   "execution_count": 28,
   "metadata": {},
   "outputs": [],
   "source": [
    "d_rail=weighted_mean(np.array(Data.d_rail.dropna()),np.array(Data.d_rail_std.dropna()))*10**(-3)\n",
    "d_rail_std=uncertainty_weighted(Data.d_rail_std)*10**(-3)"
   ]
  },
  {
   "cell_type": "markdown",
   "metadata": {},
   "source": [
    "## laser lengths"
   ]
  },
  {
   "cell_type": "code",
   "execution_count": 32,
   "metadata": {},
   "outputs": [],
   "source": [
    "Laser_1=weighted_mean(np.array(Data.laser_1.dropna()),np.array(Data.laser_1_std.dropna()))*10**(-2)\n",
    "Laser_2=weighted_mean(np.array(Data.laser_2.dropna()),np.array(Data.laser_2_std.dropna()))*10**(-2)\n",
    "Laser_3=weighted_mean(np.array(Data.laser_3.dropna()),np.array(Data.laser_3_std.dropna()))*10**(-2)\n",
    "Laser_4=weighted_mean(np.array(Data.laser_4.dropna()),np.array(Data.laser_4_std.dropna()))*10**(-2)"
   ]
  },
  {
   "cell_type": "code",
   "execution_count": 33,
   "metadata": {},
   "outputs": [],
   "source": [
    "Laser_1=uncertainty_weighted(np.array(Data.laser_1_std.dropna()))*10**(-2)\n",
    "Laser_2=uncertainty_weighted(np.array(Data.laser_2_std.dropna()))*10**(-2)\n",
    "Laser_3=uncertainty_weighted(np.array(Data.laser_3_std.dropna()))*10**(-2)\n",
    "Laser_4=uncertainty_weighted(np.array(Data.laser_4_std.dropna()))*10**(-2)"
   ]
  },
  {
   "cell_type": "code",
   "execution_count": 34,
   "metadata": {},
   "outputs": [
    {
     "data": {
      "text/plain": [
       "0    3.70\n",
       "1    3.60\n",
       "2    3.70\n",
       "3    3.60\n",
       "4    3.65\n",
       "Name: length_pend, dtype: float64"
      ]
     },
     "execution_count": 34,
     "metadata": {},
     "output_type": "execute_result"
    }
   ],
   "source": [
    "Data.length_pend.dropna()"
   ]
  },
  {
   "cell_type": "code",
   "execution_count": 35,
   "metadata": {},
   "outputs": [],
   "source": [
    "deltaT=angle_180-angle"
   ]
  },
  {
   "cell_type": "markdown",
   "metadata": {},
   "source": [
    "## distance Ramp weighted  Lasers"
   ]
  },
  {
   "cell_type": "code",
   "execution_count": 36,
   "metadata": {},
   "outputs": [
    {
     "name": "stdout",
     "output_type": "stream",
     "text": [
      "15.277611779356775\n",
      "15.277611779356775\n",
      "15.73018743283504\n",
      "15.73018743283504\n"
     ]
    }
   ],
   "source": [
    "print(big_weighted_slope/np.sin((angle+deltaT)*np.pi/180)*(1+2/5*big_ball**2/(big_ball**2-d_rail**2)))\n",
    "print(big_weighted_slope/np.sin((angle_180)*np.pi/180)*(1+2/5*big_ball**2/(big_ball**2-d_rail**2)))\n",
    "print(big_weighted_slope/np.sin((angle+deltaT)*np.pi/180)*(1+2/5*small_ball**2/(small_ball**2-d_rail**2)))\n",
    "print(big_weighted_slope/np.sin((angle_180)*np.pi/180)*(1+2/5*small_ball**2/(small_ball**2-d_rail**2)))"
   ]
  },
  {
   "cell_type": "code",
   "execution_count": 37,
   "metadata": {},
   "outputs": [
    {
     "name": "stdout",
     "output_type": "stream",
     "text": [
      "0.4599999999999991\n"
     ]
    }
   ],
   "source": [
    "print(angle_180-angle)"
   ]
  },
  {
   "cell_type": "code",
   "execution_count": 46,
   "metadata": {},
   "outputs": [],
   "source": [
    "g,a,DB,DR,T1,T2= symbols(\"g,a,D_{ball},D_{rail},theta,theta_Delta\")\n",
    "dDB,dDr,dT,da,dg= symbols(\"sigma_DB, sigma_Dr, sigma_theta,sigma_a,sigma_g\")"
   ]
  },
  {
   "cell_type": "code",
   "execution_count": 47,
   "metadata": {},
   "outputs": [
    {
     "data": {
      "text/latex": [
       "$$g = \\frac{a \\left(\\frac{0.4 D_{ball}^{2}}{D_{ball}^{2} - D_{rail}^{2}} + 1\\right)}{\\theta + \\theta_{\\Delta}}$$"
      ],
      "text/plain": [
       "<IPython.core.display.Latex object>"
      ]
     },
     "metadata": {},
     "output_type": "display_data"
    },
    {
     "data": {
      "text/latex": [
       "$$\\sigma_{g} = \\sqrt{\\frac{0.64 a^{2} \\sigma_{DB}^{2} \\left(- \\frac{D_{ball}^{3}}{\\left(D_{ball}^{2} - D_{rail}^{2}\\right)^{2}} + \\frac{D_{ball}}{D_{ball}^{2} - D_{rail}^{2}}\\right)^{2}}{\\left(\\theta + \\theta_{\\Delta}\\right)^{2}} + \\frac{a^{2} \\sigma_{\\theta}^{2} \\left(\\frac{0.4 D_{ball}^{2}}{D_{ball}^{2} - D_{rail}^{2}} + 1\\right)^{2}}{\\left(\\theta + \\theta_{\\Delta}\\right)^{4}} + \\frac{\\sigma_{a}^{2} \\left(\\frac{0.4 D_{ball}^{2}}{D_{ball}^{2} - D_{rail}^{2}} + 1\\right)^{2}}{\\left(\\theta + \\theta_{\\Delta}\\right)^{2}}}$$"
      ],
      "text/plain": [
       "<IPython.core.display.Latex object>"
      ]
     },
     "metadata": {},
     "output_type": "display_data"
    }
   ],
   "source": [
    "g=a/( T1 + T2 )*((1)+(2/5)*DB**2/(DB**2-DR**2))\n",
    "dg=sqrt((da*g.diff(a))**2+(g.diff(DB)*dDB)**2+(g.diff(dDr)*dDr)**2+(g.diff(T1)*dT)**2)\n",
    "lprint(latex(Eq(symbols('g'), g)))\n",
    "lprint(latex(Eq(symbols('sigma_g'), dg)))"
   ]
  },
  {
   "cell_type": "code",
   "execution_count": 63,
   "metadata": {},
   "outputs": [
    {
     "name": "stdout",
     "output_type": "stream",
     "text": [
      "2.4220835652213046 0.015559058823529412 0.005938461538461539 0.22689280275926285 0.12278333770047621 9.70142500145332e-06 3.922322702763681e-05 0.008726646259971648\n"
     ]
    }
   ],
   "source": [
    "print(big_weighted_slope,big_ball,d_rail,angle*np.pi/180,big_uncertainty_slope,big_ball_std,d_rail_std,angle_std*np.pi/180)"
   ]
  },
  {
   "cell_type": "code",
   "execution_count": 70,
   "metadata": {},
   "outputs": [
    {
     "data": {
      "text/latex": [
       "$$q_0 = (15.13747549341181 \\pm 0.9513418036470506)\\,\\mathrm{m/s^2}$$"
      ],
      "text/plain": [
       "<IPython.core.display.Latex object>"
      ]
     },
     "metadata": {},
     "output_type": "display_data"
    }
   ],
   "source": [
    "# Turn expression into numerical functions \n",
    "fg = lambdify((a,DB,DR,T1,T2),g)\n",
    "fdg = lambdify((a,DB,DR,T1,T2,da,dDB,dDr,dT),dg)\n",
    "# Numerically evaluate expressions and print \n",
    "vg= fg(big_weighted_slope,big_ball,d_rail,angle*np.pi/180,(angle_180-angle)*np.pi/180)\n",
    "vdg = fdg(big_weighted_slope,big_ball,d_rail,angle*np.pi/180,(angle_180-angle)*np.pi/180,big_uncertainty_slope,big_ball_std,d_rail_std,angle_std*np.pi/180)\n",
    "lprint(fr'q_0 = ({vg:} \\pm {vdg:})\\,\\mathrm{{m/s^2}}')\n"
   ]
  },
  {
   "cell_type": "code",
   "execution_count": null,
   "metadata": {},
   "outputs": [],
   "source": []
  }
 ],
 "metadata": {
  "kernelspec": {
   "display_name": "Python 3",
   "language": "python",
   "name": "python3"
  },
  "language_info": {
   "codemirror_mode": {
    "name": "ipython",
    "version": 3
   },
   "file_extension": ".py",
   "mimetype": "text/x-python",
   "name": "python",
   "nbconvert_exporter": "python",
   "pygments_lexer": "ipython3",
   "version": "3.8.3"
  }
 },
 "nbformat": 4,
 "nbformat_minor": 4
}
