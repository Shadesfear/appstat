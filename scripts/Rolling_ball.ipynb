{
 "cells": [
  {
   "cell_type": "code",
   "execution_count": 46,
   "metadata": {},
   "outputs": [],
   "source": [
    "import numpy as np\n",
    "import matplotlib.pyplot as plt\n",
    "from IPython.core.display import Latex\n",
    "from sympy import * \n",
    "from iminuit import Minuit\n",
    "import seaborn as sns\n",
    "import pandas as pd\n",
    "import scipy as sp\n",
    "import sys                                             # Modules to see files and folders in directories\n",
    "sys.path.append('External_Functions')\n",
    "from ExternalFunctions import Chi2Regression,nice_string_output, add_text_to_ax\n",
    "from scipy.stats import binom, poisson, norm\n",
    "from Rolling_ball_functions import data_sorting,data_import,mean_func\n",
    "from Universal_functions import weighted_mean,uncertainty_weighted,fit_multiple"
   ]
  },
  {
   "cell_type": "code",
   "execution_count": 47,
   "metadata": {},
   "outputs": [],
   "source": [
    "def lprint(*args,**kwargs):\n",
    "    \"\"\"Pretty print arguments as LaTeX using IPython display system \n",
    "    from IPython.core.display import Latex\n",
    "    from sympy import * \n",
    "    Parameters\n",
    "    ----------\n",
    "    args : tuple \n",
    "        What to print (in LaTeX math mode)\n",
    "    kwargs : dict \n",
    "        optional keywords to pass to `display` \n",
    "    \"\"\"\n",
    "    return display(Latex('$$'+' '.join(args)+'$$'),**kwargs)"
   ]
  },
  {
   "cell_type": "code",
   "execution_count": 48,
   "metadata": {},
   "outputs": [],
   "source": [
    "Data=pd.read_csv(\"../data/data_setup.csv\")"
   ]
  },
  {
   "cell_type": "code",
   "execution_count": 49,
   "metadata": {},
   "outputs": [],
   "source": [
    "Tea=np.arcsin(weighted_mean(Data.height.dropna(),Data.height_std.dropna())/np.sqrt(weighted_mean(Data.height.dropna(),Data.height_std.dropna())**2+weighted_mean(Data.length.dropna(),Data.length_std.dropna())**2))*180/np.pi"
   ]
  },
  {
   "cell_type": "code",
   "execution_count": 50,
   "metadata": {},
   "outputs": [],
   "source": [
    "Laser_1=weighted_mean(np.array(Data.laser_1.dropna()),np.array(Data.laser_1_std.dropna()))*10**(-2)\n",
    "Laser_2=weighted_mean(np.array(Data.laser_2.dropna()),np.array(Data.laser_2_std.dropna()))*10**(-2)\n",
    "Laser_3=weighted_mean(np.array(Data.laser_3.dropna()),np.array(Data.laser_3_std.dropna()))*10**(-2)\n",
    "Laser_4=weighted_mean(np.array(Data.laser_4.dropna()),np.array(Data.laser_4_std.dropna())) *10**(-2)\n",
    "Laser_1_std=uncertainty_weighted(np.array(Data.laser_1_std.dropna()))*10**(-2)\n",
    "Laser_2_std=uncertainty_weighted(np.array(Data.laser_2_std.dropna()))*10**(-2)\n",
    "Laser_3_std=uncertainty_weighted(np.array(Data.laser_3_std.dropna()))*10**(-2)\n",
    "Laser_4_std=uncertainty_weighted(np.array(Data.laser_4_std.dropna()))*10**(-2)\n",
    "Length_slope=np.array([0.0001,Laser_1,Laser_2,Laser_3,Laser_4])\n",
    "Length_slope_std=np.array([0.1,Laser_1_std,Laser_2_std,Laser_3_std,Laser_4_std])\n"
   ]
  },
  {
   "cell_type": "code",
   "execution_count": 51,
   "metadata": {},
   "outputs": [],
   "source": [
    "Number_of_datasets=5\n",
    "skiprows_pd=15\n",
    "location=\"../data/slope/\"\n"
   ]
  },
  {
   "cell_type": "code",
   "execution_count": 52,
   "metadata": {},
   "outputs": [
    {
     "name": "stdout",
     "output_type": "stream",
     "text": [
      "[0.      0.14925 0.31075 0.48725 0.6659 ]\n"
     ]
    }
   ],
   "source": [
    "Length_slope-np.roll(Length_slope,1)\n",
    "Length_slope=np.array([0,0.14925,0.14925+0.1615,0.1765+0.1615+0.14925,0.17865+0.1765+0.1615+0.14925])"
   ]
  },
  {
   "cell_type": "code",
   "execution_count": 53,
   "metadata": {},
   "outputs": [],
   "source": [
    "\n",
    "\n",
    "Time_big,Voltages_big=data_import(5,\"exported_data_big_ball_acc_\",15,location)\n",
    "Time_small,Voltages_small=data_import(5,\"exported_data_acc_small_ball_\",15,location)\n",
    "Time_big_180,Voltages_big_180=data_import(5,\"exported_data_acc_small_180_deg_\",15,location)\n",
    "Time_small_180,Voltages_small_180=data_import(5,\"exported_data_acc_big_ball_180_deg_\",15,location)\n"
   ]
  },
  {
   "cell_type": "code",
   "execution_count": 54,
   "metadata": {},
   "outputs": [],
   "source": [
    "Delta_T_big,Delta_T_big_std=mean_func(Time_big,Voltages_big)\n",
    "Delta_T_small,Delta_T_small_std=mean_func(Time_small,Voltages_small)\n",
    "Delta_T_big_180,Delta_T_big_180_std=mean_func(Time_big_180,Voltages_big_180)\n",
    "Delta_T_small_180,Delta_T_small_180_std=mean_func(Time_small_180,Voltages_small_180)"
   ]
  },
  {
   "cell_type": "code",
   "execution_count": 55,
   "metadata": {},
   "outputs": [],
   "source": [
    "def fit_function_Lin(x, slope, intersection):\n",
    "    return intersection+ 1/2*slope*x**2 "
   ]
  },
  {
   "cell_type": "code",
   "execution_count": 56,
   "metadata": {},
   "outputs": [],
   "source": [
    "slope_big,slope_big_uncertainty,intersection_big,intersection_big_uncertainty=fit_multiple(fit_function_Lin,Delta_T_big,Length_slope,Length_slope_std)\n",
    "big_weighted_slope,big_uncertainty_slope=weighted_mean(slope_big,slope_big_uncertainty),uncertainty_weighted(slope_big_uncertainty)\n",
    "big_weighted_intersection,big_uncertainty_intersection=weighted_mean(intersection_big,intersection_big_uncertainty),uncertainty_weighted(intersection_big_uncertainty)"
   ]
  },
  {
   "cell_type": "code",
   "execution_count": 57,
   "metadata": {},
   "outputs": [],
   "source": [
    "slope_small,slope_small_uncertainty,intersection_small,intersection_small_uncertainty=fit_multiple(fit_function_Lin,Delta_T_small,Length_slope,Length_slope_std)\n",
    "small_weighted_slope,small_uncertainty_slope=weighted_mean(slope_small,slope_small_uncertainty),uncertainty_weighted(slope_small_uncertainty)\n",
    "small_weighted_intersection,small_uncertainty_intersection=weighted_mean(intersection_big,intersection_big_uncertainty),uncertainty_weighted(intersection_big_uncertainty)"
   ]
  },
  {
   "cell_type": "code",
   "execution_count": 58,
   "metadata": {},
   "outputs": [],
   "source": [
    "slope_big_180,slope_big_uncertainty_180,intersection_big_180,intersection_big_uncertainty_180=fit_multiple(fit_function_Lin,Delta_T_big_180,Length_slope,Length_slope_std)\n",
    "big_weighted_slope_180,big_uncertainty_slope_180=weighted_mean(slope_big_180,slope_big_uncertainty_180),uncertainty_weighted(slope_big_uncertainty_180)\n",
    "big_weighted_intersection_180,big_uncertainty_intersection_180=weighted_mean(intersection_big_180,intersection_big_uncertainty_180),uncertainty_weighted(intersection_big_uncertainty_180)"
   ]
  },
  {
   "cell_type": "code",
   "execution_count": 60,
   "metadata": {},
   "outputs": [],
   "source": [
    "slope_small_180,slope_small_uncertainty_180,intersection_small_180,intersection_small_uncertainty_180=fit_multiple(fit_function_Lin,Delta_T_small_180,Length_slope,Length_slope_std)\n",
    "small_weighted_slope_180,small_uncertainty_slope_180=weighted_mean(slope_small,slope_small_uncertainty_180),uncertainty_weighted(slope_small_uncertainty_180)\n",
    "small_weighted_intersection_180,small_uncertainty_intersection_180=weighted_mean(intersection_big_180,intersection_big_uncertainty_180),uncertainty_weighted(intersection_big_uncertainty_180)"
   ]
  },
  {
   "cell_type": "code",
   "execution_count": 44,
   "metadata": {},
   "outputs": [],
   "source": [
    "x=np.linspace(0,0.64,100)"
   ]
  },
  {
   "cell_type": "code",
   "execution_count": 45,
   "metadata": {},
   "outputs": [
    {
     "name": "stdout",
     "output_type": "stream",
     "text": [
      "[0.     0.191  0.3426 0.4766 0.5992]\n"
     ]
    },
    {
     "data": {
      "text/plain": [
       "[<matplotlib.lines.Line2D at 0x7f4c7afe07f0>]"
      ]
     },
     "execution_count": 45,
     "metadata": {},
     "output_type": "execute_result"
    },
    {
     "data": {
      "image/png": "[encoded data removed]",
      "text/plain": [
       "<Figure size 432x288 with 1 Axes>"
      ]
     },
     "metadata": {
      "needs_background": "light"
     },
     "output_type": "display_data"
    }
   ],
   "source": [
    "print(Delta_T_big[0])\n",
    "plt.plot(Delta_T_big[0],Length_slope,'.')\n",
    "plt.plot(Delta_T_big[1],Length_slope,'.')\n",
    "plt.plot(Delta_T_big[2],Length_slope,'.')\n",
    "plt.plot(Delta_T_big[3],Length_slope,'.')\n",
    "plt.plot(Delta_T_big[4],Length_slope,'.')\n",
    "plt.plot(Delta_T_small[0],Length_slope,'.')\n",
    "plt.plot(Delta_T_small[1],Length_slope,'.')\n",
    "plt.plot(Delta_T_small[2],Length_slope,'.')\n",
    "plt.plot(Delta_T_small[3],Length_slope,'.')\n",
    "plt.plot(Delta_T_small[4],Length_slope,'.')\n",
    "plt.plot(x,fit_function_Lin(x,big_weighted_slope,big_weighted_intersection)+0.102)\n",
    "plt.plot(x,fit_function_Lin(x,small_weighted_slope,small_weighted_intersection)+0.102)"
   ]
  },
  {
   "cell_type": "code",
   "execution_count": 18,
   "metadata": {},
   "outputs": [
    {
     "name": "stdout",
     "output_type": "stream",
     "text": [
      "[0.     0.191  0.3426 0.4766 0.5992]\n"
     ]
    },
    {
     "data": {
      "text/plain": [
       "[<matplotlib.lines.Line2D at 0x7f4c7b4c12e0>]"
      ]
     },
     "execution_count": 18,
     "metadata": {},
     "output_type": "execute_result"
    },
    {
     "data": {
      "image/png": "[encoded data removed]",
      "text/plain": [
       "<Figure size 432x288 with 1 Axes>"
      ]
     },
     "metadata": {
      "needs_background": "light"
     },
     "output_type": "display_data"
    }
   ],
   "source": [
    "print(Delta_T_big[0])\n",
    "plt.plot(Delta_T_small[0],Length_slope,'.')\n",
    "plt.plot(Delta_T_small[1],Length_slope,'.')\n",
    "plt.plot(Delta_T_small[2],Length_slope,'.')\n",
    "plt.plot(Delta_T_small[3],Length_slope,'.')\n",
    "plt.plot(Delta_T_small[4],Length_slope,'.')\n",
    "plt.plot(x,fit_function_Lin(x,small_weighted_slope,small_weighted_intersection)+0.1)"
   ]
  },
  {
   "cell_type": "code",
   "execution_count": 20,
   "metadata": {},
   "outputs": [],
   "source": [
    "g,a,DB,DR,T1,T2= symbols(\"g,a,D_{ball},D_{rail},theta,theta_Delta\")\n",
    "dDB,dDr,dT,dTd,da,dg= symbols(\"sigma_DB, sigma_Dr, sigma_theta, sigma_Delta ,sigma_a,sigma_g\")"
   ]
  },
  {
   "cell_type": "code",
   "execution_count": 21,
   "metadata": {},
   "outputs": [
    {
     "data": {
      "text/latex": [
       "$$g = \\frac{a \\left(\\frac{0.4 D_{ball}^{2}}{D_{ball}^{2} - D_{rail}^{2}} + 1\\right)}{\\theta + \\theta_{\\Delta}}$$"
      ],
      "text/plain": [
       "<IPython.core.display.Latex object>"
      ]
     },
     "metadata": {},
     "output_type": "display_data"
    },
    {
     "data": {
      "text/latex": [
       "$$\\sigma_{g} = \\sqrt{\\frac{0.64 a^{2} \\sigma_{DB}^{2} \\left(- \\frac{D_{ball}^{3}}{\\left(D_{ball}^{2} - D_{rail}^{2}\\right)^{2}} + \\frac{D_{ball}}{D_{ball}^{2} - D_{rail}^{2}}\\right)^{2}}{\\left(\\theta + \\theta_{\\Delta}\\right)^{2}} + \\frac{a^{2} \\sigma_{\\Delta}^{2} \\left(\\frac{0.4 D_{ball}^{2}}{D_{ball}^{2} - D_{rail}^{2}} + 1\\right)^{2}}{\\left(\\theta + \\theta_{\\Delta}\\right)^{4}} + \\frac{a^{2} \\sigma_{\\theta}^{2} \\left(\\frac{0.4 D_{ball}^{2}}{D_{ball}^{2} - D_{rail}^{2}} + 1\\right)^{2}}{\\left(\\theta + \\theta_{\\Delta}\\right)^{4}} + \\frac{\\sigma_{a}^{2} \\left(\\frac{0.4 D_{ball}^{2}}{D_{ball}^{2} - D_{rail}^{2}} + 1\\right)^{2}}{\\left(\\theta + \\theta_{\\Delta}\\right)^{2}}}$$"
      ],
      "text/plain": [
       "<IPython.core.display.Latex object>"
      ]
     },
     "metadata": {},
     "output_type": "display_data"
    }
   ],
   "source": [
    "g=a/( T1 + T2 )*((1)+(2/5)*DB**2/(DB**2-DR**2))\n",
    "dg=sqrt((da*g.diff(a))**2+(g.diff(DB)*dDB)**2+(g.diff(dDr)*dDr)**2+(g.diff(T1)*dT)**2+(g.diff(T2)*dTd)**2)\n",
    "lprint(latex(Eq(symbols('g'), g)))\n",
    "lprint(latex(Eq(symbols('sigma_g'), dg)))"
   ]
  },
  {
   "cell_type": "markdown",
   "metadata": {},
   "source": [
    "## weigthed_ball_sections"
   ]
  },
  {
   "cell_type": "code",
   "execution_count": 22,
   "metadata": {},
   "outputs": [],
   "source": [
    "big_ball=weighted_mean(np.array(Data.big_ball.dropna()),np.array(Data.big_ball_std.dropna()))*10**(-3)\n",
    "small_ball=weighted_mean(np.array(Data.small_ball.dropna()),np.array(Data.small_all_std.dropna()))*10**(-3)\n",
    "big_ball_std=uncertainty_weighted(np.array(Data.big_ball_std.dropna()))*10**(-3)\n",
    "small_ball_std=uncertainty_weighted(np.array(Data.small_all_std.dropna()))*10**(-3)"
   ]
  },
  {
   "cell_type": "markdown",
   "metadata": {},
   "source": [
    "## weighted_Angle"
   ]
  },
  {
   "cell_type": "code",
   "execution_count": 23,
   "metadata": {},
   "outputs": [],
   "source": [
    "angle=weighted_mean(np.array(Data.angle .dropna()),np.array(Data.angle_std.dropna()))\n",
    "angle_180 =weighted_mean(np.array(Data.angle_180.dropna()),np.array(Data.angle_180_std.dropna()))\n",
    "angle_std=uncertainty_weighted(np.array(Data.angle_std.dropna()))\n",
    "angle_180_std=uncertainty_weighted(np.array(Data.angle_180_std.dropna()))"
   ]
  },
  {
   "cell_type": "markdown",
   "metadata": {},
   "source": [
    "## d_rail"
   ]
  },
  {
   "cell_type": "code",
   "execution_count": 24,
   "metadata": {},
   "outputs": [],
   "source": [
    "d_rail=weighted_mean(np.array(Data.d_rail.dropna()),np.array(Data.d_rail_std.dropna()))*10**(-3)\n",
    "d_rail_std=uncertainty_weighted(Data.d_rail_std)*10**(-3)"
   ]
  },
  {
   "cell_type": "code",
   "execution_count": 28,
   "metadata": {},
   "outputs": [],
   "source": [
    "deltaT=angle_180-angle"
   ]
  },
  {
   "cell_type": "markdown",
   "metadata": {},
   "source": [
    "## distance Ramp weighted  Lasers"
   ]
  },
  {
   "cell_type": "code",
   "execution_count": 29,
   "metadata": {},
   "outputs": [
    {
     "name": "stdout",
     "output_type": "stream",
     "text": [
      "19.60313675273981\n",
      "20.03735364761164\n",
      "19.395945846468603\n",
      "19.825573384386924\n"
     ]
    }
   ],
   "source": [
    "print(big_weighted_slope/np.sin((Tea)*np.pi/180)*(1+2/5*big_ball**2/(big_ball**2-d_rail**2)))\n",
    "print(big_weighted_slope/np.sin((angle_180)*np.pi/180)*(1+2/5*big_ball**2/(big_ball**2-d_rail**2)))\n",
    "print(small_weighted_slope/np.sin((Tea)*np.pi/180)*(1+2/5*small_ball**2/(small_ball**2-d_rail**2)))\n",
    "print(small_weighted_slope/np.sin((angle_180)*np.pi/180)*(1+2/5*small_ball**2/(small_ball**2-d_rail**2)))"
   ]
  },
  {
   "cell_type": "code",
   "execution_count": 30,
   "metadata": {},
   "outputs": [
    {
     "name": "stdout",
     "output_type": "stream",
     "text": [
      "0.4599999999999991\n"
     ]
    }
   ],
   "source": [
    "print(angle_180-angle)"
   ]
  },
  {
   "cell_type": "code",
   "execution_count": 31,
   "metadata": {},
   "outputs": [],
   "source": [
    "g,a,DB,DR,T1,T2= symbols(\"g,a,D_{ball},D_{rail},theta,theta_Delta\")\n",
    "dDB,dDr,dT,da,dg= symbols(\"sigma_DB, sigma_Dr, sigma_theta,sigma_a,sigma_g\")"
   ]
  },
  {
   "cell_type": "code",
   "execution_count": 32,
   "metadata": {},
   "outputs": [
    {
     "data": {
      "text/latex": [
       "$$g = \\frac{a \\left(\\frac{0.4 D_{ball}^{2}}{D_{ball}^{2} - D_{rail}^{2}} + 1\\right)}{\\theta + \\theta_{\\Delta}}$$"
      ],
      "text/plain": [
       "<IPython.core.display.Latex object>"
      ]
     },
     "metadata": {},
     "output_type": "display_data"
    },
    {
     "data": {
      "text/latex": [
       "$$\\sigma_{g} = \\sqrt{\\frac{0.64 a^{2} \\sigma_{DB}^{2} \\left(- \\frac{D_{ball}^{3}}{\\left(D_{ball}^{2} - D_{rail}^{2}\\right)^{2}} + \\frac{D_{ball}}{D_{ball}^{2} - D_{rail}^{2}}\\right)^{2}}{\\left(\\theta + \\theta_{\\Delta}\\right)^{2}} + \\frac{a^{2} \\sigma_{\\theta}^{2} \\left(\\frac{0.4 D_{ball}^{2}}{D_{ball}^{2} - D_{rail}^{2}} + 1\\right)^{2}}{\\left(\\theta + \\theta_{\\Delta}\\right)^{4}} + \\frac{\\sigma_{a}^{2} \\left(\\frac{0.4 D_{ball}^{2}}{D_{ball}^{2} - D_{rail}^{2}} + 1\\right)^{2}}{\\left(\\theta + \\theta_{\\Delta}\\right)^{2}}}$$"
      ],
      "text/plain": [
       "<IPython.core.display.Latex object>"
      ]
     },
     "metadata": {},
     "output_type": "display_data"
    }
   ],
   "source": [
    "g=a/( T1 + T2 )*((1)+(2/5)*DB**2/(DB**2-DR**2))\n",
    "dg=sqrt((da*g.diff(a))**2+(g.diff(DB)*dDB)**2+(g.diff(dDr)*dDr)**2+(g.diff(T1)*dT)**2)\n",
    "lprint(latex(Eq(symbols('g'), g)))\n",
    "lprint(latex(Eq(symbols('sigma_g'), dg)))"
   ]
  },
  {
   "cell_type": "code",
   "execution_count": 33,
   "metadata": {},
   "outputs": [
    {
     "name": "stdout",
     "output_type": "stream",
     "text": [
      "3.176684004104903 0.015559058823529412 0.005938461538461539 0.22689280275926285 0.04894064619906685 9.70142500145332e-06 3.922322702763681e-05 0.008726646259971648\n"
     ]
    }
   ],
   "source": [
    "print(big_weighted_slope,big_ball,d_rail,angle*np.pi/180,big_uncertainty_slope,big_ball_std,d_rail_std,angle_std*np.pi/180)"
   ]
  },
  {
   "cell_type": "code",
   "execution_count": 34,
   "metadata": {},
   "outputs": [
    {
     "data": {
      "text/latex": [
       "$$q_0 = (9.926778942091863 \\pm 0.7984149682321122)\\,\\mathrm{m/s^2}$$"
      ],
      "text/plain": [
       "<IPython.core.display.Latex object>"
      ]
     },
     "metadata": {},
     "output_type": "display_data"
    }
   ],
   "source": [
    "# Turn expression into numerical functions \n",
    "fg = lambdify((a,DB,DR,T1,T2),g)\n",
    "fdg = lambdify((a,DB,DR,T1,T2,da,dDB,dDr,dT),dg)\n",
    "# Numerically evaluate expressions and print \n",
    "vg_big= fg(big_weighted_slope,big_ball,d_rail,angle*np.pi/180,(angle_180-angle)*np.pi/180)\n",
    "vdg_big = fdg(big_weighted_slope,big_ball,d_rail,angle*np.pi/180,(angle_180-angle)*np.pi/180,big_uncertainty_slope,big_ball_std,d_rail_std,angle_std*np.pi/180)\n",
    "lprint(fr'q_0 = ({vg_big/2:} \\pm {vdg_big:})\\,\\mathrm{{m/s^2}}')\n"
   ]
  },
  {
   "cell_type": "code",
   "execution_count": 35,
   "metadata": {},
   "outputs": [
    {
     "data": {
      "text/latex": [
       "$$q_0 = (9.821860104290128 \\pm 0.39747336660467675)\\,\\mathrm{m/s^2}$$"
      ],
      "text/plain": [
       "<IPython.core.display.Latex object>"
      ]
     },
     "metadata": {},
     "output_type": "display_data"
    }
   ],
   "source": [
    "vg_small= fg(small_weighted_slope,small_ball,d_rail,13.0*np.pi/180,(angle_180-angle)*np.pi/180)\n",
    "vdg_small = fdg(small_weighted_slope,small_ball,d_rail,angle*np.pi/180,(angle_180-angle)*np.pi/180,small_uncertainty_slope,small_ball_std,d_rail_std,angle_std*np.pi/180)\n",
    "lprint(fr'q_0 = ({vg_small/2:} \\pm {vdg_small/2:})\\,\\mathrm{{m/s^2}}')"
   ]
  },
  {
   "cell_type": "code",
   "execution_count": 36,
   "metadata": {},
   "outputs": [
    {
     "data": {
      "text/latex": [
       "$$q_0 = (9.903763388947125 \\pm 0.39853123730711343)\\,\\mathrm{m/s^2}$$"
      ],
      "text/plain": [
       "<IPython.core.display.Latex object>"
      ]
     },
     "metadata": {},
     "output_type": "display_data"
    }
   ],
   "source": [
    "vg_big_180= fg(big_weighted_slope_180,big_ball,d_rail,angle*np.pi/180,(angle_180-angle)*np.pi/180)\n",
    "vdg_big_180 = fdg(big_weighted_slope_180,big_ball,d_rail,angle*np.pi/180,(angle_180-angle)*np.pi/180,big_uncertainty_slope_180,big_ball_std,d_rail_std,angle_std*np.pi/180)\n",
    "lprint(fr'q_0 = ({vg_big_180/2:} \\pm {vdg_big_180/2:})\\,\\mathrm{{m/s^2}}')"
   ]
  },
  {
   "cell_type": "code",
   "execution_count": 38,
   "metadata": {},
   "outputs": [
    {
     "data": {
      "text/plain": [
       "[<matplotlib.lines.Line2D at 0x7f4c7b0ff370>]"
      ]
     },
     "execution_count": 38,
     "metadata": {},
     "output_type": "execute_result"
    },
    {
     "data": {
      "image/png": "[encoded data removed]",
      "text/plain": [
       "<Figure size 432x288 with 1 Axes>"
      ]
     },
     "metadata": {
      "needs_background": "light"
     },
     "output_type": "display_data"
    }
   ],
   "source": [
    "plt.plot(Time_small[0],Voltages_small[0])\n",
    "Roll=data_sorting(Time_small[0],Voltages_small[0])\n",
    "plt.plot((np.mean(Roll[0][Roll[2][0]:Roll[2][1]])+np.mean(Roll[1][Roll[3][0]:Roll[3][1]]))/2,1,'o')\n",
    "plt.plot((np.mean(Roll[0][Roll[2][1]:Roll[2][2]])+np.mean(Roll[1][Roll[3][1]:Roll[3][2]]))/2,1,'o')"
   ]
  },
  {
   "cell_type": "code",
   "execution_count": 39,
   "metadata": {},
   "outputs": [
    {
     "name": "stdout",
     "output_type": "stream",
     "text": [
      "(array([1.8674, 1.8676, 1.8678, 1.868 , 1.8682, 1.8684, 1.8686, 1.8688,\n",
      "       1.869 , 1.8692, 1.8694, 1.8696, 1.8698, 1.87  , 2.0624, 2.0626,\n",
      "       2.0628, 2.063 , 2.0632, 2.0634, 2.0636, 2.0638, 2.064 , 2.0642,\n",
      "       2.2164, 2.2166, 2.2168, 2.217 , 2.2172, 2.3512, 2.3514, 2.3516,\n",
      "       2.3518, 2.4744, 2.4746, 2.4748, 2.475 , 2.4752]), array([1.8894, 1.8896, 1.8898, 1.89  , 1.8902, 1.8904, 1.8906, 1.8908,\n",
      "       1.891 , 1.8912, 1.8914, 1.8916, 1.8918, 2.077 , 2.0772, 2.0774,\n",
      "       2.0776, 2.0778, 2.078 , 2.0782, 2.0784, 2.0786, 2.0788, 2.079 ,\n",
      "       2.2272, 2.2274, 2.2276, 2.2278, 2.228 , 2.2282, 2.3606, 2.3608,\n",
      "       2.361 , 2.3612, 2.3614, 2.4826, 2.4828, 2.483 , 2.4832, 2.4834,\n",
      "       2.4836]), array([ 0, 14, 24, 29, 33, 37]), array([ 0, 13, 24, 30, 35, 40]))\n"
     ]
    }
   ],
   "source": [
    "print(Roll)"
   ]
  },
  {
   "cell_type": "code",
   "execution_count": 40,
   "metadata": {},
   "outputs": [
    {
     "data": {
      "text/plain": [
       "[<matplotlib.lines.Line2D at 0x7f1231d0fc40>]"
      ]
     },
     "execution_count": 40,
     "metadata": {},
     "output_type": "execute_result"
    },
    {
     "data": {
      "image/png": "[encoded data removed]",
      "text/plain": [
       "<Figure size 432x288 with 1 Axes>"
      ]
     },
     "metadata": {
      "needs_background": "light"
     },
     "output_type": "display_data"
    }
   ],
   "source": [
    "plt.plot(Roll[0][0:13])\n",
    "plt.plot(Roll[1][0:13])\n",
    "plt.plot((np.mean(Roll[0][0:14])+np.mean(Roll[1][0:13]))/2,'o')"
   ]
  },
  {
   "cell_type": "code",
   "execution_count": null,
   "metadata": {},
   "outputs": [],
   "source": []
  },
  {
   "cell_type": "code",
   "execution_count": null,
   "metadata": {},
   "outputs": [],
   "source": []
  },
  {
   "cell_type": "code",
   "execution_count": null,
   "metadata": {},
   "outputs": [],
   "source": []
  }
 ],
 "metadata": {
  "kernelspec": {
   "display_name": "Python 3",
   "language": "python",
   "name": "python3"
  },
  "language_info": {
   "codemirror_mode": {
    "name": "ipython",
    "version": 3
   },
   "file_extension": ".py",
   "mimetype": "text/x-python",
   "name": "python",
   "nbconvert_exporter": "python",
   "pygments_lexer": "ipython3",
   "version": "3.8.3"
  }
 },
 "nbformat": 4,
 "nbformat_minor": 4
}
