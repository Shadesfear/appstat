{
 "cells": [
  {
   "cell_type": "code",
   "execution_count": 1,
   "metadata": {},
   "outputs": [],
   "source": [
    "import numpy as np\n",
    "import matplotlib.pyplot as plt\n",
    "from IPython.core.display import Latex\n",
    "from sympy import * \n",
    "from iminuit import Minuit\n",
    "import seaborn as sns\n",
    "import pandas as pd\n",
    "import scipy as sp\n",
    "import sys                                             # Modules to see files and folders in directories\n",
    "sys.path.append('External_Functions')\n",
    "from ExternalFunctions import Chi2Regression\n",
    "from ExternalFunctions import nice_string_output, add_text_to_ax # useful functions to print fit results on figure\n",
    "from scipy.stats import binom, poisson, norm\n",
    "from simple_pendulum_functions import Residual_time\n",
    "from Universal_functions import weighted_mean,uncertainty_weighted"
   ]
  },
  {
   "cell_type": "code",
   "execution_count": 2,
   "metadata": {},
   "outputs": [],
   "source": [
    "\n",
    "def lprint(*args,**kwargs):\n",
    "    \"\"\"Pretty print arguments as LaTeX using IPython display system \n",
    "    \n",
    "    Parameters\n",
    "    ----------\n",
    "    args : tuple \n",
    "        What to print (in LaTeX math mode)\n",
    "    kwargs : dict \n",
    "        optional keywords to pass to `display` \n",
    "    \"\"\"\n",
    "    display(Latex('$$'+' '.join(args)+'$$'),**kwargs)"
   ]
  },
  {
   "cell_type": "code",
   "execution_count": 3,
   "metadata": {},
   "outputs": [],
   "source": [
    "Tan=np.loadtxt(\"../data/pendulum/timer_output1_tan.dat\")\n",
    "Michael1=np.loadtxt(\"../data/pendulum/trash_data_Michael.dat\")\n",
    "Michael2=np.loadtxt(\"../data/pendulum/better_data_Michael.dat\")\n",
    "Chris=np.loadtxt(\"../data/pendulum/chris_data_0.dat\")\n",
    "Luca=np.loadtxt(\"../data/pendulum/timer_output_luca.dat\")"
   ]
  },
  {
   "cell_type": "code",
   "execution_count": 4,
   "metadata": {},
   "outputs": [],
   "source": [
    "def fit_function_Lin(x, slope, intercept):\n",
    "    return intercept + slope*x"
   ]
  },
  {
   "cell_type": "code",
   "execution_count": 5,
   "metadata": {},
   "outputs": [],
   "source": [
    "Time_lib={\"Tan\":Tan[1:,1],\"Michael1\":Michael1[:,1]-min(Michael1[:,1]),\"Michael2\":Michael2[1:51,1],\"Chris\":Chris[:,1],\"Luca\":Luca[:,1]}\n",
    "Number_lib={\"Tan\":Tan[1:,0],\"Michael1\":Michael1[:,0],\"Michael2\":Michael2[1:51,0],\"Chris\":Chris[:,0],\"Luca\":Luca[:,0]}\n",
    "Time=pd.DataFrame(Time_lib)\n",
    "Number=pd.DataFrame(Number_lib)"
   ]
  },
  {
   "cell_type": "code",
   "execution_count": 6,
   "metadata": {},
   "outputs": [],
   "source": [
    "Residual_time1={\"Tan\":Residual_time(Time.Tan,Number.Tan),\"Michael1\":Residual_time(Time.Michael1,Number.Michael1),\"Michael2\":Residual_time(Time.Michael2,Number.Michael2),\"Chris\":Residual_time(Time.Chris,Number.Chris),\"Luca\":Residual_time(Time.Luca,Number.Luca)}\n",
    "Residual_Time_data=pd.DataFrame(Residual_time1)"
   ]
  },
  {
   "cell_type": "code",
   "execution_count": 7,
   "metadata": {},
   "outputs": [],
   "source": [
    "chi2_object_Tan = Chi2Regression(fit_function_Lin, Number.Tan,Time.Tan, Time.Tan.std()) \n",
    "chi2_object_Michael1  = Chi2Regression(fit_function_Lin, Number.Michael1,Time.Michael1, Time.Michael1.std()) \n",
    "chi2_object_Michael2  = Chi2Regression(fit_function_Lin, Number.Michael2,Time.Michael2, Time.Michael2.std()) \n",
    "chi2_object_Chris  = Chi2Regression(fit_function_Lin, Number.Chris,Time.Chris, Time.Chris.std()) \n",
    "minuitLin_Tan = Minuit(chi2_object_Tan, pedantic=False, intercept=1, slope=1, print_level=0) \n",
    "minuitLin_Michael1 = Minuit(chi2_object_Michael1, pedantic=False, intercept=1, slope=1, print_level=0) \n",
    "minuitLin_Michael2 = Minuit(chi2_object_Michael2, pedantic=False, intercept=1, slope=1, print_level=0) \n",
    "minuitLin_Chris = Minuit(chi2_object_Chris, pedantic=False, intercept=1, slope=1, print_level=0) \n",
    "minuitLin_Tan.migrad();\n",
    "minuitLin_Michael1.migrad(); \n",
    "minuitLin_Michael2.migrad(); \n",
    "minuitLin_Chris.migrad(); "
   ]
  },
  {
   "cell_type": "code",
   "execution_count": 8,
   "metadata": {},
   "outputs": [],
   "source": [
    "\n",
    "Periode=np.array([minuitLin_Tan.args[0],minuitLin_Michael1.args[0],minuitLin_Michael2.args[0],minuitLin_Chris.args[0]])\n",
    "Periode_std=np.array([minuitLin_Tan.errors['slope'],minuitLin_Michael1.errors['slope'],minuitLin_Michael2.errors['slope'],minuitLin_Chris.errors['slope']])\n",
    "intercept_array=np.array([minuitLin_Tan.args[1],minuitLin_Michael1.args[1],minuitLin_Michael2.args[1],minuitLin_Chris.args[1]])\n",
    "intercept_std=np.array([minuitLin_Tan.errors['intercept'],minuitLin_Michael1.errors['intercept'],minuitLin_Michael2.errors['intercept'],minuitLin_Chris.errors['intercept']])\n",
    "slope_weigted=weighted_mean(Periode,Periode_std)\n",
    "slope_std_weigted=uncertainty_weighted(Periode_std)\n",
    "intersection_weigted=weighted_mean(intercept_array,intercept_std)\n",
    "intersection_std_weigted=uncertainty_weighted(intercept_std)\n",
    "\n",
    "Rsidual_time_combined=np.block([Residual_Time_data.Tan,Residual_Time_data.Luca,Residual_Time_data.Michael1,Residual_Time_data.Michael2,Residual_Time_data.Chris])"
   ]
  },
  {
   "cell_type": "code",
   "execution_count": null,
   "metadata": {},
   "outputs": [],
   "source": []
  },
  {
   "cell_type": "code",
   "execution_count": null,
   "metadata": {},
   "outputs": [],
   "source": [
    "\n",
    "fig=plt.figure(figsize=(10,10))\n",
    "ax=fig.add_axes([0,0,1,1])\n",
    "ax1=fig.add_axes([0.65,0.2,0.3,0.3])\n",
    "ax2 = ax.twinx()\n",
    "#sns.scatterplot(x=Time.Tan,y=Residual_Time.Tan,ax=ax)\n",
    "sns.scatterplot(x=Number.Tan,y=Time.Tan,ax=ax)\n",
    "sns.scatterplot(x=Number.Michael1,y=Time.Michael1,ax=ax)\n",
    "sns.scatterplot(x=Number.Michael2,y=Time.Michael2,ax=ax)\n",
    "sns.scatterplot(x=Number.Chris,y=Time.Chris,ax=ax)\n",
    "sns.scatterplot(x=Number.Luca,y=Time.Luca,ax=ax)\n",
    "ax.plot(x_pend,fit_function_Lin(x_pend,slope_weigted,intersection_weigted))\n",
    "\n",
    "sns.distplot(Rsidual_time_combined, ax=ax1)\n",
    "d = {'Intercept':[intersection_weigted, intersection_std_weigted],\n",
    "     'Slope':    [slope_weigted, slope_std_weigted]}\n",
    "text = nice_string_output(d, extra_spacing=2, decimals=3)\n",
    "add_text_to_ax(0.04, 0.95, text, ax, fontsize=20)\n",
    "\n",
    "\n",
    "ax2.set_yscale('log')\n",
    "fig.tight_layout()"
   ]
  },
  {
   "cell_type": "markdown",
   "metadata": {},
   "source": [
    "## weighted Length of the line Length + pendilum length"
   ]
  },
  {
   "cell_type": "code",
   "execution_count": 44,
   "metadata": {},
   "outputs": [],
   "source": [
    "Data=pd.read_csv(\"../data/data_setup.csv\")"
   ]
  },
  {
   "cell_type": "code",
   "execution_count": 20,
   "metadata": {},
   "outputs": [],
   "source": [
    "length_pend=weighted_mean(np.array(Data.length_pend.dropna()),np.array(Data.lengh_pend_std.dropna()))/2*10**(-2)\n",
    "line_length=weighted_mean(np.array(Data.line_length.dropna()),np.array(Data.line_length_std.dropna()))*10**(-2)\n",
    "length_pend_std=uncertainty_weighted(np.array(Data.lengh_pend_std.dropna()))*10**(-2)\n",
    "line_length_std=uncertainty_weighted(np.array(Data.line_length_std.dropna()))*10**(-2)\n",
    "tot_length=np.array([length_pend+line_length,length_pend_std+line_length_std])"
   ]
  },
  {
   "cell_type": "code",
   "execution_count": 21,
   "metadata": {},
   "outputs": [],
   "source": [
    "L,g,T ,C= symbols(\"L, g, T,C\")\n",
    "dL,dg,dT= symbols(\"sigma_L, sigma_g, sigma_T\")"
   ]
  },
  {
   "cell_type": "code",
   "execution_count": 22,
   "metadata": {},
   "outputs": [
    {
     "data": {
      "text/latex": [
       "$$g = \\frac{4 \\pi^{2} L}{T^{2}}$$"
      ],
      "text/plain": [
       "<IPython.core.display.Latex object>"
      ]
     },
     "metadata": {},
     "output_type": "display_data"
    },
    {
     "data": {
      "text/latex": [
       "$$\\sigma_{dg} = \\sqrt{\\frac{64 \\pi^{4} L^{2} \\sigma_{T}^{2}}{T^{6}} + \\frac{16 \\pi^{4} \\sigma_{L}^{2}}{T^{4}}}$$"
      ],
      "text/plain": [
       "<IPython.core.display.Latex object>"
      ]
     },
     "metadata": {},
     "output_type": "display_data"
    }
   ],
   "source": [
    "g=L*(2*pi/T)**2\n",
    "dg=sqrt((dL*g.diff(L))**2+(g.diff(T)*dT)**2)\n",
    "lprint(latex(Eq(symbols('g'), g)))\n",
    "lprint(latex(Eq(symbols('sigma_dg'), dg)))"
   ]
  },
  {
   "cell_type": "code",
   "execution_count": null,
   "metadata": {},
   "outputs": [],
   "source": [
    "# Turn expression into numerical functions \n",
    "fg = lambdify((L,T,DR,T1,T),g)\n",
    "fdg = lambdify((a,DB,DR,T1,T2,da,dDB,dDr,dT),dg)\n",
    "# Numerically evaluate expressions and print \n",
    "vg= fg(big_weighted_slope,big_ball,d_rail,angle*np.pi/180,(angle_180-angle)*np.pi/180)\n",
    "vdg = fdg(big_weighted_slope,big_ball,d_rail,angle*np.pi/180,(angle_180-angle)*np.pi/180,big_uncertainty_slope,big_ball_std,d_rail_std,angle_std*np.pi/180)\n",
    "lprint(fr'q_0 = ({vg:} \\pm {vdg:})\\,\\mathrm{{m/s^2}}')\n"
   ]
  },
  {
   "cell_type": "code",
   "execution_count": 27,
   "metadata": {},
   "outputs": [],
   "source": []
  },
  {
   "cell_type": "code",
   "execution_count": null,
   "metadata": {},
   "outputs": [],
   "source": []
  }
 ],
 "metadata": {
  "kernelspec": {
   "display_name": "Python 3",
   "language": "python",
   "name": "python3"
  },
  "language_info": {
   "codemirror_mode": {
    "name": "ipython",
    "version": 3
   },
   "file_extension": ".py",
   "mimetype": "text/x-python",
   "name": "python",
   "nbconvert_exporter": "python",
   "pygments_lexer": "ipython3",
   "version": "3.8.3"
  }
 },
 "nbformat": 4,
 "nbformat_minor": 4
}
